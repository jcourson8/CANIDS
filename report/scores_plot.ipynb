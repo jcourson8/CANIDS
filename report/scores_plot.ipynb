{
 "cells": [
  {
   "cell_type": "code",
   "execution_count": null,
   "metadata": {},
   "outputs": [],
   "source": []
  },
  {
   "cell_type": "code",
   "execution_count": 1,
   "metadata": {},
   "outputs": [
    {
     "name": "stdout",
     "output_type": "stream",
     "text": [
      "Found ambient and attack directories.\n",
      "Loading CAN metadata...\n",
      "Parquet files found...\n",
      "Found processed parquet files...\n",
      "Loading processed parquet files...\n",
      "Loading processing data into 'CANData' structure\n",
      "No attack labels in accelerator_attack_drive_1.log\n",
      "No attack labels in accelerator_attack_drive_2.log\n",
      "No attack labels in accelerator_attack_reverse_1.log\n",
      "No attack labels in accelerator_attack_reverse_2.log\n",
      "Found attack labels in correlated_signal_attack_1.log\n",
      "Found attack labels in correlated_signal_attack_2.log\n",
      "Found attack labels in correlated_signal_attack_3.log\n",
      "Found attack labels in fuzzing_attack_1.log\n",
      "Found attack labels in fuzzing_attack_2.log\n",
      "Found attack labels in fuzzing_attack_3.log\n",
      "Found attack labels in max_engine_coolant_temp_attack.log\n",
      "Found attack labels in max_speedometer_attack_1.log\n",
      "Found attack labels in max_speedometer_attack_2.log\n",
      "Found attack labels in max_speedometer_attack_3.log\n",
      "Found attack labels in reverse_light_off_attack_1.log\n",
      "Found attack labels in reverse_light_off_attack_2.log\n",
      "Found attack labels in reverse_light_off_attack_3.log\n",
      "Found attack labels in reverse_light_on_attack_1.log\n",
      "Found attack labels in reverse_light_on_attack_2.log\n",
      "Found attack labels in reverse_light_on_attack_3.log\n"
     ]
    }
   ],
   "source": [
    "import os \n",
    "import sys \n",
    "parent_dir = os.path.dirname(os.getcwd())\n",
    "sys.path.append(\"/home/jbc0071/Documents/CANIDS/code\")\n",
    "# sys.path.append(parent_dir + \"/code\")\n",
    "\n",
    "from model.CANnoloAttackDetector import CANnoloAttackDetector\n",
    "from data_helpers.CANDataset import CANDataset\n",
    "from helpers import calculate_feature_vec_length, seperate_attack_loader, calculate_metrics\n",
    "from dotenv import load_dotenv\n",
    "# from data_helpers.CANDataLoader import CANDataLoader\n",
    "import os\n",
    "\n",
    "load_dotenv()\n",
    "data_path = os.getenv('DATA_PATH')\n",
    "dataset = CANDataset(data_path, log_verbosity=1)\n",
    "\n",
    "config = {\n",
    "    \"batch_size\": 32,\n",
    "    \"delta_time_last_msg\": {\n",
    "        \"specific_to_can_id\": False,\n",
    "        \"records_back\": 30\n",
    "    },\n",
    "    \"delta_time_last_same_aid\": {\n",
    "        \"specific_to_can_id\": True,\n",
    "        \"records_back\": 15\n",
    "    },\n",
    "}\n",
    "\n",
    "ambient_loader, validation_loader, attack_loader = dataset.get_dataloaders(config)\n",
    "\n",
    "attack_loaders = seperate_attack_loader(attack_loader, config, remove_non_labelled=True)"
   ]
  },
  {
   "cell_type": "code",
   "execution_count": 2,
   "metadata": {},
   "outputs": [],
   "source": [
    "unique_can_ids = dataset.get_unique_can_ids()\n",
    "num_can_ids = len(unique_can_ids)\n",
    "feature_vec_length = ambient_loader.features_len\n",
    "\n",
    "# Load model\n",
    "model_path = 'models/canolo_model_112.pt'\n",
    "\n",
    "model_config = {\n",
    "    \"embedding_dim\": num_can_ids,\n",
    "    \"lstm_units\": 128,\n",
    "    \"dense_units\": 256,\n",
    "    \"dropout_rate\": 0.2,\n",
    "    \"num_embeddings\": max(unique_can_ids) + 1, # not sure why + 1 rn but it works\n",
    "    \"feature_vec_length\": calculate_feature_vec_length(config)\n",
    "}"
   ]
  },
  {
   "cell_type": "code",
   "execution_count": 3,
   "metadata": {},
   "outputs": [
    {
     "name": "stdout",
     "output_type": "stream",
     "text": [
      "Forcing CPU usage...\n",
      "Forcing CPU usage...\n",
      "Forcing CPU usage...\n",
      "Forcing CPU usage...\n",
      "Forcing CPU usage...\n",
      "Forcing CPU usage...\n",
      "Forcing CPU usage...\n",
      "Forcing CPU usage...\n",
      "Forcing CPU usage...\n",
      "Forcing CPU usage...\n",
      "Forcing CPU usage...\n",
      "Forcing CPU usage...\n",
      "Forcing CPU usage...\n",
      "Forcing CPU usage...\n",
      "Forcing CPU usage...\n",
      "Forcing CPU usage...\n",
      "Testing on correlated_signal_attack_1.log\n",
      "Testing on correlated_signal_attack_2.log\n",
      "Testing on correlated_signal_attack_3.log\n",
      "Testing on fuzzing_attack_1.log\n",
      "Testing on fuzzing_attack_2.logTesting on fuzzing_attack_3.log\n",
      "\n",
      "Testing on max_engine_coolant_temp_attack.log\n",
      "Testing on max_speedometer_attack_1.log\n",
      "Testing on max_speedometer_attack_2.log\n",
      "Testing on reverse_light_off_attack_1.logTesting on max_speedometer_attack_3.log\n",
      "\n",
      "Testing on reverse_light_off_attack_2.log\n",
      "Testing on reverse_light_off_attack_3.log\n",
      "Testing on reverse_light_on_attack_1.log\n",
      "Testing on reverse_light_on_attack_3.log\n",
      "Testing on reverse_light_on_attack_2.log\n",
      "Finished in 204.87332892417908 seconds\n"
     ]
    },
    {
     "ename": "NameError",
     "evalue": "name 'list_of_filename_and_results' is not defined",
     "output_type": "error",
     "traceback": [
      "\u001b[0;31m---------------------------------------------------------------------------\u001b[0m",
      "\u001b[0;31mNameError\u001b[0m                                 Traceback (most recent call last)",
      "Cell \u001b[0;32mIn[3], line 24\u001b[0m\n\u001b[1;32m     20\u001b[0m end_time \u001b[39m=\u001b[39m time\u001b[39m.\u001b[39mtime()\n\u001b[1;32m     22\u001b[0m \u001b[39mprint\u001b[39m(\u001b[39mf\u001b[39m\u001b[39m\"\u001b[39m\u001b[39mFinished in \u001b[39m\u001b[39m{\u001b[39;00mend_time\u001b[39m \u001b[39m\u001b[39m-\u001b[39m\u001b[39m \u001b[39mstart_time\u001b[39m}\u001b[39;00m\u001b[39m seconds\u001b[39m\u001b[39m\"\u001b[39m)\n\u001b[0;32m---> 24\u001b[0m \u001b[39mprint\u001b[39m(list_of_filename_and_results)\n",
      "\u001b[0;31mNameError\u001b[0m: name 'list_of_filename_and_results' is not defined"
     ]
    }
   ],
   "source": [
    "from concurrent.futures import ProcessPoolExecutor\n",
    "from detect import detect_wrapper, get_scores_wrapper\n",
    "import time\n",
    "\n",
    "num_attack_files = len(attack_loaders)\n",
    "detectors = []\n",
    "\n",
    "threshold = 2.80E-06\n",
    "\n",
    "start_time = time.time()\n",
    "for _ in range(num_attack_files):\n",
    "    detector = CANnoloAttackDetector(model_path, threshold, model_config, force_cpu=True)\n",
    "    detectors.append(detector)\n",
    "\n",
    "with ProcessPoolExecutor() as executor:\n",
    "    list_of_filename_scores_and_labels = list(executor.map(get_scores_wrapper, zip(attack_loaders, detectors)))\n",
    "\n",
    "for loader in attack_loaders:\n",
    "    loader.reset()\n",
    "end_time = time.time()\n",
    "\n",
    "print(f\"Finished in {end_time - start_time} seconds\")\n",
    "\n"
   ]
  },
  {
   "cell_type": "code",
   "execution_count": 15,
   "metadata": {},
   "outputs": [],
   "source": [
    "# list_of_filename_scores_and_labels[0]\n",
    "new_file_format = [[filename, score_list] for filename, score_list in list_of_filename_scores_and_labels]\n"
   ]
  },
  {
   "cell_type": "code",
   "execution_count": 18,
   "metadata": {},
   "outputs": [],
   "source": [
    "new_file_format_2 = []\n",
    "for filename, score_list in new_file_format:\n",
    "    score_list_new = []\n",
    "    for score, label in score_list:\n",
    "        score_list_new.append([score.item(), int(label)])\n",
    "    new_file_format_2.append([filename, score_list_new])\n",
    "\n",
    "with open(\"./data/fileandscore.txt\", 'w') as f:\n",
    "    f.write(str(new_file_format_2))\n"
   ]
  },
  {
   "cell_type": "code",
   "execution_count": null,
   "metadata": {},
   "outputs": [],
   "source": [
    "new_file_format_2"
   ]
  },
  {
   "cell_type": "code",
   "execution_count": null,
   "metadata": {},
   "outputs": [],
   "source": []
  },
  {
   "cell_type": "code",
   "execution_count": null,
   "metadata": {},
   "outputs": [],
   "source": []
  }
 ],
 "metadata": {
  "kernelspec": {
   "display_name": "pytorch",
   "language": "python",
   "name": "python3"
  },
  "language_info": {
   "codemirror_mode": {
    "name": "ipython",
    "version": 3
   },
   "file_extension": ".py",
   "mimetype": "text/x-python",
   "name": "python",
   "nbconvert_exporter": "python",
   "pygments_lexer": "ipython3",
   "version": "3.11.5"
  },
  "orig_nbformat": 4
 },
 "nbformat": 4,
 "nbformat_minor": 2
}
