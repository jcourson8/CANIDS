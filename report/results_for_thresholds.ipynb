{
 "cells": [
  {
   "cell_type": "code",
   "execution_count": null,
   "metadata": {},
   "outputs": [],
   "source": [
    "\n",
    "with open(\"./data/file_with_threshold_and_scores.txt\", 'r') as f:\n",
    "    results = eval(f.readline())"
   ]
  },
  {
   "cell_type": "code",
   "execution_count": 5,
   "metadata": {},
   "outputs": [
    {
     "data": {
      "text/plain": [
       "[('correlated_signal_attack_1.log',\n",
       "  4.0096000000000065e-07,\n",
       "  0.05607922347528475),\n",
       " ('correlated_signal_attack_2.log', 9.70003e-06, 0.5371672526368658),\n",
       " ('correlated_signal_attack_3.log', 1e-05, 0.5074327038971475),\n",
       " ('fuzzing_attack_1.log', 1e-05, 0.005934718100890207),\n",
       " ('fuzzing_attack_2.log', 1e-05, 0.005970149253731343),\n",
       " ('fuzzing_attack_3.log', 1e-05, 0.008368200836820085),\n",
       " ('max_engine_coolant_temp_attack.log',\n",
       "  2.1007900000000013e-06,\n",
       "  0.005906929837199251),\n",
       " ('max_speedometer_attack_1.log', 3.009700000000006e-07, 0.024443911025764126),\n",
       " ('max_speedometer_attack_2.log', 2.8007200000000007e-06, 0.31096138896087067),\n",
       " ('max_speedometer_attack_3.log', 4.0096000000000065e-07, 0.06319966737017174),\n",
       " ('reverse_light_off_attack_1.log',\n",
       "  2.9007100000000007e-06,\n",
       "  0.1906735751295337),\n",
       " ('reverse_light_off_attack_2.log', 3.100690000000001e-06, 0.3858835651725915),\n",
       " ('reverse_light_off_attack_3.log',\n",
       "  3.009700000000006e-07,\n",
       "  0.03665883486957045),\n",
       " ('reverse_light_on_attack_1.log',\n",
       "  4.0096000000000065e-07,\n",
       "  0.03330070199218521),\n",
       " ('reverse_light_on_attack_2.log', 6.009400000000007e-07, 0.08595390355981619),\n",
       " ('reverse_light_on_attack_3.log', 1.400860000000001e-06, 0.10762927186577242)]"
      ]
     },
     "metadata": {},
     "output_type": "display_data"
    }
   ],
   "source": [
    "thresholds = list(results[0][1].keys())\n",
    "\n",
    "best_threshhold_for_each_file = {}\n",
    "\n",
    "for filename, result in results:\n",
    "    f1_score_list = [(threshold, filename, (accuracy, precision, recall, f1_score, confusion_matrix)) for threshold, (accuracy, precision, recall, f1_score, confusion_matrix) in result.items()]\n",
    "    best_f1_score_tup = max(f1_score_list, key=lambda tup: tup[2][3])\n",
    "    best_threshhold_for_each_file[filename] = best_f1_score_tup\n",
    "\n",
    "best_thresholds = [(filename, threshold, f1_score) for k, (threshold, filename, (accuracy, precision, recall, f1_score, confusion_matrix)) in best_threshhold_for_each_file.items()]\n",
    "display(best_thresholds) "
   ]
  }
 ],
 "metadata": {
  "kernelspec": {
   "display_name": "pytorch",
   "language": "python",
   "name": "python3"
  },
  "language_info": {
   "codemirror_mode": {
    "name": "ipython",
    "version": 3
   },
   "file_extension": ".py",
   "mimetype": "text/x-python",
   "name": "python",
   "nbconvert_exporter": "python",
   "pygments_lexer": "ipython3",
   "version": "3.11.5"
  },
  "orig_nbformat": 4
 },
 "nbformat": 4,
 "nbformat_minor": 2
}
