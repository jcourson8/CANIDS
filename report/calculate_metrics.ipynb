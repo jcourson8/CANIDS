{
 "cells": [
  {
   "cell_type": "code",
   "execution_count": 1,
   "metadata": {},
   "outputs": [
    {
     "name": "stdout",
     "output_type": "stream",
     "text": [
      "Found ambient and attack directories.\n",
      "Loading CAN metadata...\n",
      "Parquet files found...\n",
      "Found processed parquet files...\n",
      "Loading processed parquet files...\n",
      "Loading processing data into 'CANData' structure\n",
      "No attack labels in accelerator_attack_drive_1.log\n",
      "No attack labels in accelerator_attack_drive_2.log\n",
      "No attack labels in accelerator_attack_reverse_1.log\n",
      "No attack labels in accelerator_attack_reverse_2.log\n",
      "Found attack labels in correlated_signal_attack_1.log\n",
      "Found attack labels in correlated_signal_attack_2.log\n",
      "Found attack labels in correlated_signal_attack_3.log\n",
      "Found attack labels in fuzzing_attack_1.log\n",
      "Found attack labels in fuzzing_attack_2.log\n",
      "Found attack labels in fuzzing_attack_3.log\n",
      "Found attack labels in max_engine_coolant_temp_attack.log\n",
      "Found attack labels in max_speedometer_attack_1.log\n",
      "Found attack labels in max_speedometer_attack_2.log\n",
      "Found attack labels in max_speedometer_attack_3.log\n",
      "Found attack labels in reverse_light_off_attack_1.log\n",
      "Found attack labels in reverse_light_off_attack_2.log\n",
      "Found attack labels in reverse_light_off_attack_3.log\n",
      "Found attack labels in reverse_light_on_attack_1.log\n",
      "Found attack labels in reverse_light_on_attack_2.log\n",
      "Found attack labels in reverse_light_on_attack_3.log\n"
     ]
    }
   ],
   "source": [
    "import os \n",
    "import sys \n",
    "parent_dir = os.path.dirname(os.getcwd())\n",
    "sys.path.append(parent_dir + \"/code\")\n",
    "\n",
    "from model.CANnoloAttackDetector import CANnoloAttackDetector\n",
    "from data_helpers.CANDataset import CANDataset\n",
    "from helpers import calculate_feature_vec_length, seperate_attack_loader, calculate_metrics\n",
    "from dotenv import load_dotenv\n",
    "# from data_helpers.CANDataLoader import CANDataLoader\n",
    "import os\n",
    "\n",
    "load_dotenv()\n",
    "data_path = os.getenv('DATA_PATH')\n",
    "dataset = CANDataset(data_path, log_verbosity=1)\n",
    "\n",
    "config = {\n",
    "    \"batch_size\": 32,\n",
    "    \"delta_time_last_msg\": {\n",
    "        \"specific_to_can_id\": False,\n",
    "        \"records_back\": 30\n",
    "    },\n",
    "    \"delta_time_last_same_aid\": {\n",
    "        \"specific_to_can_id\": True,\n",
    "        \"records_back\": 15\n",
    "    },\n",
    "}\n",
    "\n",
    "ambient_loader, validation_loader, attack_loader = dataset.get_dataloaders(config)\n",
    "\n",
    "attack_loaders = seperate_attack_loader(attack_loader, config, remove_non_labelled=True)\n"
   ]
  },
  {
   "cell_type": "code",
   "execution_count": 2,
   "metadata": {},
   "outputs": [
    {
     "data": {
      "text/plain": [
       "[<data_helpers.CANDataLoader.CANDataLoader at 0x14fb39410>,\n",
       " <data_helpers.CANDataLoader.CANDataLoader at 0x2ceab1fd0>,\n",
       " <data_helpers.CANDataLoader.CANDataLoader at 0x2ceab2090>,\n",
       " <data_helpers.CANDataLoader.CANDataLoader at 0x2ceab2150>,\n",
       " <data_helpers.CANDataLoader.CANDataLoader at 0x2ceab2210>,\n",
       " <data_helpers.CANDataLoader.CANDataLoader at 0x2b08f2b50>,\n",
       " <data_helpers.CANDataLoader.CANDataLoader at 0x2ceab2250>,\n",
       " <data_helpers.CANDataLoader.CANDataLoader at 0x2ceab2410>,\n",
       " <data_helpers.CANDataLoader.CANDataLoader at 0x2ceab24d0>,\n",
       " <data_helpers.CANDataLoader.CANDataLoader at 0x2ceab2590>,\n",
       " <data_helpers.CANDataLoader.CANDataLoader at 0x2ceab2650>,\n",
       " <data_helpers.CANDataLoader.CANDataLoader at 0x2ceab2710>,\n",
       " <data_helpers.CANDataLoader.CANDataLoader at 0x2ceab27d0>,\n",
       " <data_helpers.CANDataLoader.CANDataLoader at 0x2ceab2890>,\n",
       " <data_helpers.CANDataLoader.CANDataLoader at 0x2ceab2950>,\n",
       " <data_helpers.CANDataLoader.CANDataLoader at 0x2ceab2a10>]"
      ]
     },
     "metadata": {},
     "output_type": "display_data"
    }
   ],
   "source": [
    "display(attack_loaders)"
   ]
  },
  {
   "cell_type": "code",
   "execution_count": null,
   "metadata": {},
   "outputs": [],
   "source": []
  },
  {
   "cell_type": "code",
   "execution_count": 3,
   "metadata": {},
   "outputs": [
    {
     "name": "stdout",
     "output_type": "stream",
     "text": [
      "MPS is available. Using MPS...\n"
     ]
    }
   ],
   "source": [
    "\n",
    "unique_can_ids = dataset.get_unique_can_ids()\n",
    "num_can_ids = len(unique_can_ids)\n",
    "feature_vec_length = ambient_loader.features_len\n",
    "\n",
    "# Load model\n",
    "model_path = 'models/canolo_model_112.pt'\n",
    "threshold = 6.3e-06\n",
    "\n",
    "model_config = {\n",
    "    \"embedding_dim\": num_can_ids,\n",
    "    \"lstm_units\": 128,\n",
    "    \"dense_units\": 256,\n",
    "    \"dropout_rate\": 0.2,\n",
    "    \"num_embeddings\": max(unique_can_ids) + 1, # not sure why + 1 rn but it works\n",
    "    \"feature_vec_length\": calculate_feature_vec_length(config)\n",
    "}\n",
    "\n",
    "detector = CANnoloAttackDetector(model_path, threshold, model_config)\n",
    "\n",
    "\n",
    "#     # make enought detectors the length of attack_loaders * deep copy\n",
    "#     detectors = [deepcopy(detector) for _ in range(len(attack_loaders))]\n",
    "#     # make a list of tuples of detectors and loaders\n",
    "#     detector_loader_pairs = zip(detectors, attack_loaders)\n",
    "#     # run the detectors in parallel\n",
    "#     results = executor.map(lambda x: calculate_metrics(x[0].detect_attacks(x[1])), detector_loader_pairs)\n",
    "#     # convert the results to a dictionary\n",
    "#     results = dict(zip([loader.can_data[0].filename[0] for loader in attack_loaders], results))\n"
   ]
  },
  {
   "cell_type": "code",
   "execution_count": 4,
   "metadata": {},
   "outputs": [],
   "source": [
    "# detector.determine_threshold(ambient_loader)\n",
    "\n",
    "# 0.0000065\n",
    "# 0.0000065\n",
    "# 0.0000065\n",
    "# 0.0000063\n",
    "# 0.000165\n",
    "# .122\n",
    "\n",
    "# ninetyfive_percentile = .0000156\n"
   ]
  },
  {
   "cell_type": "code",
   "execution_count": 5,
   "metadata": {},
   "outputs": [
    {
     "name": "stdout",
     "output_type": "stream",
     "text": [
      "2086\n",
      "       time   aid              data                        filename  \\\n",
      "0  0.000000  1505  893FC00B0A013880  correlated_signal_attack_1.log   \n",
      "1  0.000001   651  0000000000000000  correlated_signal_attack_1.log   \n",
      "2  0.000003   167  0010FA24D12E00A0  correlated_signal_attack_1.log   \n",
      "3  0.000004   208  4A7704600201F000  correlated_signal_attack_1.log   \n",
      "4  0.000997    51  000698000E4207D0  correlated_signal_attack_1.log   \n",
      "\n",
      "   delta_time_last_msg  delta_time_last_same_aid  actual_attack  \n",
      "0         0.000000e+00                       NaN          False  \n",
      "1         1.072884e-06                       NaN          False  \n",
      "2         2.026558e-06                       NaN          False  \n",
      "3         9.536743e-07                       NaN          False  \n",
      "4         9.930134e-04                       NaN          False  \n",
      "2140\n",
      "           time   aid              data                        filename  \\\n",
      "0  0.000000e+00  1505  891FA0070A00CC80  correlated_signal_attack_2.log   \n",
      "1  9.536743e-07   651  0000000000000000  correlated_signal_attack_2.log   \n",
      "2  2.026558e-06   167  00512C25A12D70A0  correlated_signal_attack_2.log   \n",
      "3  2.980232e-06    61  0001C30000000000  correlated_signal_attack_2.log   \n",
      "4  4.243016e-03    14  2055960208096FF6  correlated_signal_attack_2.log   \n",
      "\n",
      "   delta_time_last_msg  delta_time_last_same_aid  actual_attack  \n",
      "0         0.000000e+00                       NaN          False  \n",
      "1         9.536743e-07                       NaN          False  \n",
      "2         1.072884e-06                       NaN          False  \n",
      "3         9.536743e-07                       NaN          False  \n",
      "4         4.240036e-03                       NaN          False  \n",
      "1264\n",
      "       time   aid              data                        filename  \\\n",
      "0  0.001029  1176  87FFBFFC278130CE  correlated_signal_attack_3.log   \n",
      "1  0.001031   519  040460482B1ED518  correlated_signal_attack_3.log   \n",
      "2  0.001032  1225  01F915820D03F64B  correlated_signal_attack_3.log   \n",
      "3  0.001032   470  028FC28034740590  correlated_signal_attack_3.log   \n",
      "4  0.002042   560  F6000002EC001200  correlated_signal_attack_3.log   \n",
      "\n",
      "   delta_time_last_msg  delta_time_last_same_aid  actual_attack  \n",
      "0         0.000000e+00                       NaN          False  \n",
      "1         2.026558e-06                       NaN          False  \n",
      "2         9.536743e-07                       NaN          False  \n",
      "3         0.000000e+00                       NaN          False  \n",
      "4         1.010060e-03                       NaN          False  \n",
      "591\n",
      "           time   aid              data              filename  \\\n",
      "0  0.000000e+00  1314  DF7FD0007F08001C  fuzzing_attack_1.log   \n",
      "1  9.536743e-07   870  80DDC8020147CE38  fuzzing_attack_1.log   \n",
      "2  9.980202e-04  1408  00000003F0880000  fuzzing_attack_1.log   \n",
      "3  9.989738e-04   208  427504646C018700  fuzzing_attack_1.log   \n",
      "4  9.999275e-04    51  0007A0000E0007D0  fuzzing_attack_1.log   \n",
      "\n",
      "   delta_time_last_msg  delta_time_last_same_aid  actual_attack  \n",
      "0         0.000000e+00                       NaN          False  \n",
      "1         9.536743e-07                       NaN          False  \n",
      "2         9.970665e-04                       NaN          False  \n",
      "3         9.536743e-07                       NaN          False  \n",
      "4         9.536743e-07                       NaN          False  \n",
      "351\n",
      "       time   aid              data              filename  \\\n",
      "0  0.000000   339  00000004000C0004  fuzzing_attack_2.log   \n",
      "1  0.001020   661  0000000000000040  fuzzing_attack_2.log   \n",
      "2  0.001021  1634  4EE0000040000000  fuzzing_attack_2.log   \n",
      "3  0.001022   412  08F62000020028C0  fuzzing_attack_2.log   \n",
      "4  0.001023   208  22770460F8000000  fuzzing_attack_2.log   \n",
      "\n",
      "   delta_time_last_msg  delta_time_last_same_aid  actual_attack  \n",
      "0         0.000000e+00                       NaN          False  \n",
      "1         1.019955e-03                       NaN          False  \n",
      "2         1.072884e-06                       NaN          False  \n",
      "3         9.536743e-07                       NaN          False  \n",
      "4         9.536743e-07                       NaN          False  \n",
      "114\n",
      "           time  aid              data              filename  \\\n",
      "0  0.000000e+00   51  123F19256DC127D0  fuzzing_attack_3.log   \n",
      "1  9.536743e-07   14  2054160208097380  fuzzing_attack_3.log   \n",
      "2  1.033902e-03  403  00080803E8080000  fuzzing_attack_3.log   \n",
      "3  1.034975e-03  263  0000000000000000  fuzzing_attack_3.log   \n",
      "4  2.054930e-03  526  4E2007A158BFAFFF  fuzzing_attack_3.log   \n",
      "\n",
      "   delta_time_last_msg  delta_time_last_same_aid  actual_attack  \n",
      "0         0.000000e+00                       NaN          False  \n",
      "1         9.536743e-07                       NaN          False  \n",
      "2         1.032948e-03                       NaN          False  \n",
      "3         1.072884e-06                       NaN          False  \n",
      "4         1.019955e-03                       NaN          False  \n",
      "42\n",
      "           time   aid              data                            filename  \\\n",
      "0  0.000000e+00   354  00080003EA11F4CE  max_engine_coolant_temp_attack.log   \n",
      "1  9.536743e-07   167  2010FA24D125C0A0  max_engine_coolant_temp_attack.log   \n",
      "2  9.961128e-04   813  00000424CC010000  max_engine_coolant_temp_attack.log   \n",
      "3  2.017021e-03  1398  7FF800003FFC1FC0  max_engine_coolant_temp_attack.log   \n",
      "4  5.083084e-03   403  00080803E6E80000  max_engine_coolant_temp_attack.log   \n",
      "\n",
      "   delta_time_last_msg  delta_time_last_same_aid  actual_attack  \n",
      "0         0.000000e+00                       NaN          False  \n",
      "1         9.536743e-07                       NaN          False  \n",
      "2         9.951591e-04                       NaN          False  \n",
      "3         1.020908e-03                       NaN          False  \n",
      "4         3.066063e-03                       NaN          False  \n",
      "2444\n",
      "           time   aid              data                      filename  \\\n",
      "0  0.000000e+00  1505  893FE00B0A000080  max_speedometer_attack_1.log   \n",
      "1  9.536743e-07   651  0000000000000000  max_speedometer_attack_1.log   \n",
      "2  9.989738e-04  1760  0000000000000000  max_speedometer_attack_1.log   \n",
      "3  9.999275e-04   167  0010FA25012B90A0  max_speedometer_attack_1.log   \n",
      "4  1.001120e-03  1694  0440047E1FC01542  max_speedometer_attack_1.log   \n",
      "\n",
      "   delta_time_last_msg  delta_time_last_same_aid  actual_attack  \n",
      "0         0.000000e+00                       NaN          False  \n",
      "1         9.536743e-07                       NaN          False  \n",
      "2         9.980202e-04                       NaN          False  \n",
      "3         9.536743e-07                       NaN          False  \n",
      "4         1.192093e-06                       NaN          False  \n",
      "3140\n",
      "       time   aid              data                      filename  \\\n",
      "0  0.000002   186  06A8044410000388  max_speedometer_attack_2.log   \n",
      "1  0.000003   293  9000415F40BDFF60  max_speedometer_attack_2.log   \n",
      "2  0.001351   403  00080803E8080000  max_speedometer_attack_2.log   \n",
      "3  0.002348   526  4E2007A11BBFEFFF  max_speedometer_attack_2.log   \n",
      "4  0.002350  1314  DF7FD00078F0001C  max_speedometer_attack_2.log   \n",
      "\n",
      "   delta_time_last_msg  delta_time_last_same_aid  actual_attack  \n",
      "0         0.000000e+00                       NaN          False  \n",
      "1         9.536743e-07                       NaN          False  \n",
      "2         1.348019e-03                       NaN          False  \n",
      "3         9.970665e-04                       NaN          False  \n",
      "4         1.907349e-06                       NaN          False  \n",
      "6107\n",
      "       time   aid              data                      filename  \\\n",
      "0  0.000002   737  0000000000000004  max_speedometer_attack_3.log   \n",
      "1  0.001021   852  200B400000023600  max_speedometer_attack_3.log   \n",
      "2  0.001023  1505  893DA00B0A007C80  max_speedometer_attack_3.log   \n",
      "3  0.001024   354  000801F3EA11F4CE  max_speedometer_attack_3.log   \n",
      "4  0.001025   167  0010FB24E12DF0A0  max_speedometer_attack_3.log   \n",
      "\n",
      "   delta_time_last_msg  delta_time_last_same_aid  actual_attack  \n",
      "0         0.000000e+00                       NaN          False  \n",
      "1         1.019001e-03                       NaN          False  \n",
      "2         1.907349e-06                       NaN          False  \n",
      "3         9.536743e-07                       NaN          False  \n",
      "4         9.536743e-07                       NaN          False  \n",
      "672\n",
      "           time   aid              data                        filename  \\\n",
      "0  0.000000e+00   293  90002DDF20385D60  reverse_light_off_attack_1.log   \n",
      "1  9.536743e-07  1760  0000000000000000  reverse_light_off_attack_1.log   \n",
      "2  1.907349e-06   263  0000000000000000  reverse_light_off_attack_1.log   \n",
      "3  1.027107e-03   186  06A811C410000862  reverse_light_off_attack_1.log   \n",
      "4  1.028061e-03   627  0000000800000000  reverse_light_off_attack_1.log   \n",
      "\n",
      "   delta_time_last_msg  delta_time_last_same_aid  actual_attack  \n",
      "0         0.000000e+00                       NaN          False  \n",
      "1         9.536743e-07                       NaN          False  \n",
      "2         9.536743e-07                       NaN          False  \n",
      "3         1.025200e-03                       NaN          False  \n",
      "4         9.536743e-07                       NaN          False  \n",
      "2371\n",
      "       time   aid              data                        filename  \\\n",
      "0  0.000000   403  00080803E4C80000  reverse_light_off_attack_2.log   \n",
      "1  0.000002   526  4E2003A0003F6FFF  reverse_light_off_attack_2.log   \n",
      "2  0.000003  1314  DF7FD1621848BF1C  reverse_light_off_attack_2.log   \n",
      "3  0.000004   293  90002DDF20F8ED60  reverse_light_off_attack_2.log   \n",
      "4  0.001016   870  7FDDC8020147CE78  reverse_light_off_attack_2.log   \n",
      "\n",
      "   delta_time_last_msg  delta_time_last_same_aid  actual_attack  \n",
      "0         0.000000e+00                       NaN          False  \n",
      "1         1.907349e-06                       NaN          False  \n",
      "2         9.536743e-07                       NaN          False  \n",
      "3         1.192093e-06                       NaN          False  \n",
      "4         1.011848e-03                       NaN          False  \n",
      "2434\n",
      "       time  aid              data                        filename  \\\n",
      "0  0.000000  208  62710460F0000000  reverse_light_off_attack_3.log   \n",
      "1  0.000004   51  000780000F0007D0  reverse_light_off_attack_3.log   \n",
      "2  0.000005  628  00F20CF3107C81DD  reverse_light_off_attack_3.log   \n",
      "3  0.001026  192  0000000000000000  reverse_light_off_attack_3.log   \n",
      "4  0.002031  737  0000000000000004  reverse_light_off_attack_3.log   \n",
      "\n",
      "   delta_time_last_msg  delta_time_last_same_aid  actual_attack  \n",
      "0         0.000000e+00                       NaN          False  \n",
      "1         4.053116e-06                       NaN          False  \n",
      "2         9.536743e-07                       NaN          False  \n",
      "3         1.021147e-03                       NaN          False  \n",
      "4         1.004934e-03                       NaN          False  \n",
      "1991\n",
      "           time   aid              data                       filename  \\\n",
      "0  0.000000e+00  1176  84002000FB800001  reverse_light_on_attack_1.log   \n",
      "1  9.536743e-07   961  7B551FBC6C38292E  reverse_light_on_attack_1.log   \n",
      "2  2.145767e-06   519  04046048291FB518  reverse_light_on_attack_1.log   \n",
      "3  1.311302e-05  1225  01F915820D02F64B  reverse_light_on_attack_1.log   \n",
      "4  1.018047e-03   470  020B808030240580  reverse_light_on_attack_1.log   \n",
      "\n",
      "   delta_time_last_msg  delta_time_last_same_aid  actual_attack  \n",
      "0         0.000000e+00                       NaN          False  \n",
      "1         9.536743e-07                       NaN          False  \n",
      "2         1.192093e-06                       NaN          False  \n",
      "3         1.096725e-05                       NaN          False  \n",
      "4         1.004934e-03                       NaN          False  \n",
      "3689\n",
      "           time   aid              data                       filename  \\\n",
      "0  0.000000e+00   852  1FFF400000040900  reverse_light_on_attack_2.log   \n",
      "1  9.536743e-07  1505  893FE00B0A000080  reverse_light_on_attack_2.log   \n",
      "2  2.145767e-06   354  00080003EA11F4CE  reverse_light_on_attack_2.log   \n",
      "3  1.013041e-03    14  2052D60208097552  reverse_light_on_attack_2.log   \n",
      "4  1.014948e-03   167  0010FA24E12B00A0  reverse_light_on_attack_2.log   \n",
      "\n",
      "   delta_time_last_msg  delta_time_last_same_aid  actual_attack  \n",
      "0         0.000000e+00                       NaN          False  \n",
      "1         9.536743e-07                       NaN          False  \n",
      "2         1.192093e-06                       NaN          False  \n",
      "3         1.010895e-03                       NaN          False  \n",
      "4         1.907349e-06                       NaN          False  \n",
      "2351\n",
      "           time   aid              data                       filename  \\\n",
      "0  0.000000e+00  1314  DF7FD0007BC0001C  reverse_light_on_attack_3.log   \n",
      "1  9.536743e-07   870  7FDDC8020147CE78  reverse_light_on_attack_3.log   \n",
      "2  2.145767e-06  1408  00000003BC080000  reverse_light_on_attack_3.log   \n",
      "3  9.901524e-04  1076  00E700A839A6CE90  reverse_light_on_attack_3.log   \n",
      "4  9.911060e-04  1760  0000000000000000  reverse_light_on_attack_3.log   \n",
      "\n",
      "   delta_time_last_msg  delta_time_last_same_aid  actual_attack  \n",
      "0         0.000000e+00                       NaN          False  \n",
      "1         9.536743e-07                       NaN          False  \n",
      "2         1.192093e-06                       NaN          False  \n",
      "3         9.880066e-04                       NaN          False  \n",
      "4         9.536743e-07                       NaN          False  \n"
     ]
    }
   ],
   "source": [
    "for loader in attack_loaders:\n",
    "    # print the column names\n",
    "    print(loader.can_data[0].actual_attack.sum())\n",
    "    print(loader.can_data[0].head())"
   ]
  },
  {
   "cell_type": "code",
   "execution_count": 6,
   "metadata": {},
   "outputs": [
    {
     "name": "stdout",
     "output_type": "stream",
     "text": [
      "MPS is available. Using MPS...\n",
      "MPS is available. Using MPS...\n",
      "MPS is available. Using MPS...\n",
      "MPS is available. Using MPS...\n",
      "MPS is available. Using MPS...\n",
      "MPS is available. Using MPS...\n",
      "MPS is available. Using MPS...\n",
      "MPS is available. Using MPS...\n",
      "MPS is available. Using MPS...\n",
      "MPS is available. Using MPS...\n",
      "MPS is available. Using MPS...\n",
      "MPS is available. Using MPS...\n",
      "MPS is available. Using MPS...\n",
      "MPS is available. Using MPS...\n",
      "MPS is available. Using MPS...\n",
      "MPS is available. Using MPS...\n"
     ]
    },
    {
     "ename": "RuntimeError",
     "evalue": "_share_filename_: only available on CPU",
     "output_type": "error",
     "traceback": [
      "\u001b[0;31m---------------------------------------------------------------------------\u001b[0m",
      "\u001b[0;31m_RemoteTraceback\u001b[0m                          Traceback (most recent call last)",
      "\u001b[0;31m_RemoteTraceback\u001b[0m: \n\"\"\"\nTraceback (most recent call last):\n  File \"/opt/homebrew/Cellar/python@3.11/3.11.4_1/Frameworks/Python.framework/Versions/3.11/lib/python3.11/multiprocessing/queues.py\", line 244, in _feed\n    obj = _ForkingPickler.dumps(obj)\n          ^^^^^^^^^^^^^^^^^^^^^^^^^^\n  File \"/opt/homebrew/Cellar/python@3.11/3.11.4_1/Frameworks/Python.framework/Versions/3.11/lib/python3.11/multiprocessing/reduction.py\", line 51, in dumps\n    cls(buf, protocol).dump(obj)\n  File \"/opt/homebrew/lib/python3.11/site-packages/torch/multiprocessing/reductions.py\", line 358, in reduce_storage\n    metadata = storage._share_filename_cpu_()\n               ^^^^^^^^^^^^^^^^^^^^^^^^^^^^^^\nRuntimeError: _share_filename_: only available on CPU\n\"\"\"",
      "\nThe above exception was the direct cause of the following exception:\n",
      "\u001b[0;31mRuntimeError\u001b[0m                              Traceback (most recent call last)",
      "\u001b[1;32m/Users/jamescourson/Documents/CANIDS/report/calculate_metrics.ipynb Cell 7\u001b[0m line \u001b[0;36m2\n\u001b[1;32m     <a href='vscode-notebook-cell:/Users/jamescourson/Documents/CANIDS/report/calculate_metrics.ipynb#X10sZmlsZQ%3D%3D?line=19'>20</a>\u001b[0m     detectors\u001b[39m.\u001b[39mappend(detector)\n\u001b[1;32m     <a href='vscode-notebook-cell:/Users/jamescourson/Documents/CANIDS/report/calculate_metrics.ipynb#X10sZmlsZQ%3D%3D?line=21'>22</a>\u001b[0m \u001b[39mwith\u001b[39;00m ProcessPoolExecutor() \u001b[39mas\u001b[39;00m executor:\n\u001b[0;32m---> <a href='vscode-notebook-cell:/Users/jamescourson/Documents/CANIDS/report/calculate_metrics.ipynb#X10sZmlsZQ%3D%3D?line=22'>23</a>\u001b[0m     meta_data[threshold] \u001b[39m=\u001b[39m \u001b[39mlist\u001b[39m(executor\u001b[39m.\u001b[39mmap(detect_wrapper, \u001b[39mzip\u001b[39m(attack_loaders, detectors)))\n\u001b[1;32m     <a href='vscode-notebook-cell:/Users/jamescourson/Documents/CANIDS/report/calculate_metrics.ipynb#X10sZmlsZQ%3D%3D?line=24'>25</a>\u001b[0m \u001b[39mfor\u001b[39;00m loader \u001b[39min\u001b[39;00m attack_loaders:\n\u001b[1;32m     <a href='vscode-notebook-cell:/Users/jamescourson/Documents/CANIDS/report/calculate_metrics.ipynb#X10sZmlsZQ%3D%3D?line=25'>26</a>\u001b[0m     loader\u001b[39m.\u001b[39mreset()\n",
      "File \u001b[0;32m/opt/homebrew/Cellar/python@3.11/3.11.4_1/Frameworks/Python.framework/Versions/3.11/lib/python3.11/concurrent/futures/process.py:602\u001b[0m, in \u001b[0;36m_chain_from_iterable_of_lists\u001b[0;34m(iterable)\u001b[0m\n\u001b[1;32m    596\u001b[0m \u001b[39mdef\u001b[39;00m \u001b[39m_chain_from_iterable_of_lists\u001b[39m(iterable):\n\u001b[1;32m    597\u001b[0m \u001b[39m    \u001b[39m\u001b[39m\"\"\"\u001b[39;00m\n\u001b[1;32m    598\u001b[0m \u001b[39m    Specialized implementation of itertools.chain.from_iterable.\u001b[39;00m\n\u001b[1;32m    599\u001b[0m \u001b[39m    Each item in *iterable* should be a list.  This function is\u001b[39;00m\n\u001b[1;32m    600\u001b[0m \u001b[39m    careful not to keep references to yielded objects.\u001b[39;00m\n\u001b[1;32m    601\u001b[0m \u001b[39m    \"\"\"\u001b[39;00m\n\u001b[0;32m--> 602\u001b[0m     \u001b[39mfor\u001b[39;00m element \u001b[39min\u001b[39;00m iterable:\n\u001b[1;32m    603\u001b[0m         element\u001b[39m.\u001b[39mreverse()\n\u001b[1;32m    604\u001b[0m         \u001b[39mwhile\u001b[39;00m element:\n",
      "File \u001b[0;32m/opt/homebrew/Cellar/python@3.11/3.11.4_1/Frameworks/Python.framework/Versions/3.11/lib/python3.11/concurrent/futures/_base.py:619\u001b[0m, in \u001b[0;36mExecutor.map.<locals>.result_iterator\u001b[0;34m()\u001b[0m\n\u001b[1;32m    616\u001b[0m \u001b[39mwhile\u001b[39;00m fs:\n\u001b[1;32m    617\u001b[0m     \u001b[39m# Careful not to keep a reference to the popped future\u001b[39;00m\n\u001b[1;32m    618\u001b[0m     \u001b[39mif\u001b[39;00m timeout \u001b[39mis\u001b[39;00m \u001b[39mNone\u001b[39;00m:\n\u001b[0;32m--> 619\u001b[0m         \u001b[39myield\u001b[39;00m _result_or_cancel(fs\u001b[39m.\u001b[39;49mpop())\n\u001b[1;32m    620\u001b[0m     \u001b[39melse\u001b[39;00m:\n\u001b[1;32m    621\u001b[0m         \u001b[39myield\u001b[39;00m _result_or_cancel(fs\u001b[39m.\u001b[39mpop(), end_time \u001b[39m-\u001b[39m time\u001b[39m.\u001b[39mmonotonic())\n",
      "File \u001b[0;32m/opt/homebrew/Cellar/python@3.11/3.11.4_1/Frameworks/Python.framework/Versions/3.11/lib/python3.11/concurrent/futures/_base.py:317\u001b[0m, in \u001b[0;36m_result_or_cancel\u001b[0;34m(***failed resolving arguments***)\u001b[0m\n\u001b[1;32m    315\u001b[0m \u001b[39mtry\u001b[39;00m:\n\u001b[1;32m    316\u001b[0m     \u001b[39mtry\u001b[39;00m:\n\u001b[0;32m--> 317\u001b[0m         \u001b[39mreturn\u001b[39;00m fut\u001b[39m.\u001b[39;49mresult(timeout)\n\u001b[1;32m    318\u001b[0m     \u001b[39mfinally\u001b[39;00m:\n\u001b[1;32m    319\u001b[0m         fut\u001b[39m.\u001b[39mcancel()\n",
      "File \u001b[0;32m/opt/homebrew/Cellar/python@3.11/3.11.4_1/Frameworks/Python.framework/Versions/3.11/lib/python3.11/concurrent/futures/_base.py:449\u001b[0m, in \u001b[0;36mFuture.result\u001b[0;34m(self, timeout)\u001b[0m\n\u001b[1;32m    447\u001b[0m     \u001b[39mraise\u001b[39;00m CancelledError()\n\u001b[1;32m    448\u001b[0m \u001b[39melif\u001b[39;00m \u001b[39mself\u001b[39m\u001b[39m.\u001b[39m_state \u001b[39m==\u001b[39m FINISHED:\n\u001b[0;32m--> 449\u001b[0m     \u001b[39mreturn\u001b[39;00m \u001b[39mself\u001b[39;49m\u001b[39m.\u001b[39;49m__get_result()\n\u001b[1;32m    451\u001b[0m \u001b[39mself\u001b[39m\u001b[39m.\u001b[39m_condition\u001b[39m.\u001b[39mwait(timeout)\n\u001b[1;32m    453\u001b[0m \u001b[39mif\u001b[39;00m \u001b[39mself\u001b[39m\u001b[39m.\u001b[39m_state \u001b[39min\u001b[39;00m [CANCELLED, CANCELLED_AND_NOTIFIED]:\n",
      "File \u001b[0;32m/opt/homebrew/Cellar/python@3.11/3.11.4_1/Frameworks/Python.framework/Versions/3.11/lib/python3.11/concurrent/futures/_base.py:401\u001b[0m, in \u001b[0;36mFuture.__get_result\u001b[0;34m(self)\u001b[0m\n\u001b[1;32m    399\u001b[0m \u001b[39mif\u001b[39;00m \u001b[39mself\u001b[39m\u001b[39m.\u001b[39m_exception:\n\u001b[1;32m    400\u001b[0m     \u001b[39mtry\u001b[39;00m:\n\u001b[0;32m--> 401\u001b[0m         \u001b[39mraise\u001b[39;00m \u001b[39mself\u001b[39m\u001b[39m.\u001b[39m_exception\n\u001b[1;32m    402\u001b[0m     \u001b[39mfinally\u001b[39;00m:\n\u001b[1;32m    403\u001b[0m         \u001b[39m# Break a reference cycle with the exception in self._exception\u001b[39;00m\n\u001b[1;32m    404\u001b[0m         \u001b[39mself\u001b[39m \u001b[39m=\u001b[39m \u001b[39mNone\u001b[39;00m\n",
      "File \u001b[0;32m/opt/homebrew/Cellar/python@3.11/3.11.4_1/Frameworks/Python.framework/Versions/3.11/lib/python3.11/multiprocessing/queues.py:244\u001b[0m, in \u001b[0;36mQueue._feed\u001b[0;34m(buffer, notempty, send_bytes, writelock, reader_close, writer_close, ignore_epipe, onerror, queue_sem)\u001b[0m\n\u001b[1;32m    241\u001b[0m     \u001b[39mreturn\u001b[39;00m\n\u001b[1;32m    243\u001b[0m \u001b[39m# serialize the data before acquiring the lock\u001b[39;00m\n\u001b[0;32m--> 244\u001b[0m obj \u001b[39m=\u001b[39m _ForkingPickler\u001b[39m.\u001b[39;49mdumps(obj)\n\u001b[1;32m    245\u001b[0m \u001b[39mif\u001b[39;00m wacquire \u001b[39mis\u001b[39;00m \u001b[39mNone\u001b[39;00m:\n\u001b[1;32m    246\u001b[0m     send_bytes(obj)\n",
      "File \u001b[0;32m/opt/homebrew/Cellar/python@3.11/3.11.4_1/Frameworks/Python.framework/Versions/3.11/lib/python3.11/multiprocessing/reduction.py:51\u001b[0m, in \u001b[0;36mForkingPickler.dumps\u001b[0;34m(cls, obj, protocol)\u001b[0m\n\u001b[1;32m     48\u001b[0m \u001b[39m@classmethod\u001b[39m\n\u001b[1;32m     49\u001b[0m \u001b[39mdef\u001b[39;00m \u001b[39mdumps\u001b[39m(\u001b[39mcls\u001b[39m, obj, protocol\u001b[39m=\u001b[39m\u001b[39mNone\u001b[39;00m):\n\u001b[1;32m     50\u001b[0m     buf \u001b[39m=\u001b[39m io\u001b[39m.\u001b[39mBytesIO()\n\u001b[0;32m---> 51\u001b[0m     \u001b[39mcls\u001b[39;49m(buf, protocol)\u001b[39m.\u001b[39;49mdump(obj)\n\u001b[1;32m     52\u001b[0m     \u001b[39mreturn\u001b[39;00m buf\u001b[39m.\u001b[39mgetbuffer()\n",
      "File \u001b[0;32m/opt/homebrew/lib/python3.11/site-packages/torch/multiprocessing/reductions.py:358\u001b[0m, in \u001b[0;36mreduce_storage\u001b[0;34m(storage)\u001b[0m\n\u001b[1;32m    356\u001b[0m     \u001b[39mraise\u001b[39;00m \u001b[39mRuntimeError\u001b[39;00m(\u001b[39m\"\u001b[39m\u001b[39mCannot pickle CUDA storage; try pickling a CUDA tensor instead\u001b[39m\u001b[39m\"\u001b[39m)\n\u001b[1;32m    357\u001b[0m \u001b[39melif\u001b[39;00m get_sharing_strategy() \u001b[39m==\u001b[39m \u001b[39m'\u001b[39m\u001b[39mfile_system\u001b[39m\u001b[39m'\u001b[39m:\n\u001b[0;32m--> 358\u001b[0m     metadata \u001b[39m=\u001b[39m storage\u001b[39m.\u001b[39;49m_share_filename_cpu_()\n\u001b[1;32m    359\u001b[0m     cache_key \u001b[39m=\u001b[39m metadata[\u001b[39m1\u001b[39m]\n\u001b[1;32m    360\u001b[0m     rebuild \u001b[39m=\u001b[39m rebuild_storage_filename\n",
      "\u001b[0;31mRuntimeError\u001b[0m: _share_filename_: only available on CPU"
     ]
    }
   ],
   "source": [
    "from concurrent.futures import ProcessPoolExecutor\n",
    "from detect import detect, detect_wrapper\n",
    "\n",
    "# def detect(loader, detector):\n",
    "#     filename = loader.can_data[0].filename[0]\n",
    "#     print(f\"Testing on {filename}\")\n",
    "#     return filename, calculate_metrics(detector.detect_attacks(loader))\n",
    "\n",
    "# def detect_wrapper(args):\n",
    "#     return detect(args[0], args[1])\n",
    "\n",
    "thresholds = [.000095, .000085, .000075, .000065, .000055]\n",
    "meta_data = {}\n",
    "for threshold in thresholds:\n",
    "    num_attack_files = len(attack_loaders)\n",
    "    detectors = []\n",
    "\n",
    "    for _ in range(num_attack_files):\n",
    "        detector = CANnoloAttackDetector(model_path, threshold, model_config, force_cpu=True)\n",
    "        detectors.append(detector)\n",
    "    \n",
    "    with ProcessPoolExecutor() as executor:\n",
    "        meta_data[threshold] = list(executor.map(detect_wrapper, zip(attack_loaders, detectors)))\n",
    "\n",
    "    for loader in attack_loaders:\n",
    "        loader.reset()\n",
    "\n",
    "    print(f\"Finished testing on threshold: {threshold}\")\n",
    "    print(meta_data[threshold])\n",
    "\n"
   ]
  },
  {
   "cell_type": "code",
   "execution_count": 4,
   "metadata": {},
   "outputs": [],
   "source": [
    "detector.threshold = 5.2644566676462956e-05\n"
   ]
  },
  {
   "cell_type": "code",
   "execution_count": 5,
   "metadata": {},
   "outputs": [
    {
     "name": "stdout",
     "output_type": "stream",
     "text": [
      "Testing on correlated_signal_attack_1.log\n"
     ]
    },
    {
     "name": "stderr",
     "output_type": "stream",
     "text": [
      "100%|█████████▉| 2381/2382 [00:29<00:00, 80.92it/s]\n"
     ]
    },
    {
     "name": "stdout",
     "output_type": "stream",
     "text": [
      "(0.9597595548089038, 0.0, 0.0, 0, [[0, 980], [2086, 73126]])\n",
      "Testing on correlated_signal_attack_2.log\n"
     ]
    },
    {
     "name": "stderr",
     "output_type": "stream",
     "text": [
      "100%|█████████▉| 2042/2043 [00:23<00:00, 85.12it/s]\n"
     ]
    },
    {
     "name": "stdout",
     "output_type": "stream",
     "text": [
      "(0.9562469392752204, 0.0, 0.0, 0, [[0, 720], [2139, 62485]])\n",
      "Testing on correlated_signal_attack_3.log\n"
     ]
    },
    {
     "name": "stderr",
     "output_type": "stream",
     "text": [
      "100%|█████████▉| 1225/1227 [00:13<00:00, 91.99it/s]\n"
     ]
    },
    {
     "name": "stdout",
     "output_type": "stream",
     "text": [
      "(0.957780612244898, 0.0, 0.0, 0, [[0, 392], [1263, 37545]])\n",
      "Testing on fuzzing_attack_1.log\n"
     ]
    },
    {
     "name": "stderr",
     "output_type": "stream",
     "text": [
      " 99%|█████████▊| 1425/1445 [00:15<00:00, 89.93it/s]\n"
     ]
    },
    {
     "name": "stdout",
     "output_type": "stream",
     "text": [
      "(0.9910745614035088, 0.002680965147453083, 0.027777777777777776, 0.004889975550122249, [[1, 372], [35, 45192]])\n",
      "Testing on fuzzing_attack_2.log\n"
     ]
    },
    {
     "name": "stderr",
     "output_type": "stream",
     "text": [
      " 98%|█████████▊| 925/947 [00:09<00:00, 94.92it/s]\n"
     ]
    },
    {
     "name": "stdout",
     "output_type": "stream",
     "text": [
      "(0.9761148648648649, 0.004297994269340974, 0.2, 0.00841514726507714, [[3, 695], [12, 28890]])\n",
      "Testing on fuzzing_attack_3.log\n"
     ]
    },
    {
     "name": "stderr",
     "output_type": "stream",
     "text": [
      " 97%|█████████▋| 375/387 [00:03<00:00, 101.66it/s]\n"
     ]
    },
    {
     "name": "stdout",
     "output_type": "stream",
     "text": [
      "(0.9901666666666666, 0.008547008547008548, 0.3333333333333333, 0.016666666666666666, [[1, 116], [2, 11881]])\n",
      "Testing on max_engine_coolant_temp_attack.log\n"
     ]
    },
    {
     "name": "stderr",
     "output_type": "stream",
     "text": [
      "100%|█████████▉| 1812/1813 [00:20<00:00, 88.11it/s]\n"
     ]
    },
    {
     "name": "stdout",
     "output_type": "stream",
     "text": [
      "(0.9894108719646799, 0.0, 0.0, 0, [[0, 572], [42, 57370]])\n",
      "Testing on max_speedometer_attack_1.log\n"
     ]
    },
    {
     "name": "stderr",
     "output_type": "stream",
     "text": [
      "100%|█████████▉| 6252/6253 [01:51<00:00, 56.14it/s]\n"
     ]
    },
    {
     "name": "stdout",
     "output_type": "stream",
     "text": [
      "(0.9767574376199616, 0.0, 0.0, 0, [[0, 2206], [2444, 195414]])\n",
      "Testing on max_speedometer_attack_2.log\n"
     ]
    },
    {
     "name": "stderr",
     "output_type": "stream",
     "text": [
      "100%|█████████▉| 4276/4277 [01:05<00:00, 65.76it/s]\n"
     ]
    },
    {
     "name": "stdout",
     "output_type": "stream",
     "text": [
      "(0.9710301683816651, 0.0, 0.0, 0, [[0, 824], [3140, 132868]])\n",
      "Testing on max_speedometer_attack_3.log\n"
     ]
    },
    {
     "name": "stderr",
     "output_type": "stream",
     "text": [
      " 83%|████████▎ | 5195/6263 [01:33<00:19, 55.43it/s]\n"
     ]
    },
    {
     "ename": "KeyboardInterrupt",
     "evalue": "",
     "output_type": "error",
     "traceback": [
      "\u001b[0;31m---------------------------------------------------------------------------\u001b[0m",
      "\u001b[0;31mKeyboardInterrupt\u001b[0m                         Traceback (most recent call last)",
      "\u001b[1;32m/Users/jamescourson/Documents/CANIDS/report/calculate_metrics.ipynb Cell 7\u001b[0m line \u001b[0;36m9\n\u001b[1;32m      <a href='vscode-notebook-cell:/Users/jamescourson/Documents/CANIDS/report/calculate_metrics.ipynb#W4sZmlsZQ%3D%3D?line=6'>7</a>\u001b[0m     filename \u001b[39m=\u001b[39m loader\u001b[39m.\u001b[39mcan_data[\u001b[39m0\u001b[39m]\u001b[39m.\u001b[39mfilename[\u001b[39m0\u001b[39m]\n\u001b[1;32m      <a href='vscode-notebook-cell:/Users/jamescourson/Documents/CANIDS/report/calculate_metrics.ipynb#W4sZmlsZQ%3D%3D?line=7'>8</a>\u001b[0m     \u001b[39mprint\u001b[39m(\u001b[39mf\u001b[39m\u001b[39m\"\u001b[39m\u001b[39mTesting on \u001b[39m\u001b[39m{\u001b[39;00mfilename\u001b[39m}\u001b[39;00m\u001b[39m\"\u001b[39m)\n\u001b[0;32m----> <a href='vscode-notebook-cell:/Users/jamescourson/Documents/CANIDS/report/calculate_metrics.ipynb#W4sZmlsZQ%3D%3D?line=8'>9</a>\u001b[0m     results[filename] \u001b[39m=\u001b[39m calculate_metrics(detector\u001b[39m.\u001b[39;49mdetect_attacks(loader))\n\u001b[1;32m     <a href='vscode-notebook-cell:/Users/jamescourson/Documents/CANIDS/report/calculate_metrics.ipynb#W4sZmlsZQ%3D%3D?line=9'>10</a>\u001b[0m     \u001b[39mprint\u001b[39m(results[filename])\n\u001b[1;32m     <a href='vscode-notebook-cell:/Users/jamescourson/Documents/CANIDS/report/calculate_metrics.ipynb#W4sZmlsZQ%3D%3D?line=10'>11</a>\u001b[0m meta_results[threshold] \u001b[39m=\u001b[39m results\n",
      "File \u001b[0;32m~/Documents/CANIDS/code/model/CANnoloAttackDetector.py:20\u001b[0m, in \u001b[0;36mCANnoloAttackDetector.detect_attacks\u001b[0;34m(self, data_loader)\u001b[0m\n\u001b[1;32m     17\u001b[0m results \u001b[39m=\u001b[39m []\n\u001b[1;32m     19\u001b[0m \u001b[39mwith\u001b[39;00m torch\u001b[39m.\u001b[39mno_grad():\n\u001b[0;32m---> 20\u001b[0m     \u001b[39mfor\u001b[39;00m batch \u001b[39min\u001b[39;00m tqdm(data_loader):\n\u001b[1;32m     21\u001b[0m         can_ids, features, actual_attacks \u001b[39m=\u001b[39m batch\n\u001b[1;32m     22\u001b[0m         can_ids, features \u001b[39m=\u001b[39m can_ids\u001b[39m.\u001b[39mto(\u001b[39mself\u001b[39m\u001b[39m.\u001b[39mmodel\u001b[39m.\u001b[39mdevice), features\u001b[39m.\u001b[39mto(\u001b[39mself\u001b[39m\u001b[39m.\u001b[39mmodel\u001b[39m.\u001b[39mdevice)\n",
      "File \u001b[0;32m/opt/homebrew/lib/python3.11/site-packages/tqdm/std.py:1178\u001b[0m, in \u001b[0;36mtqdm.__iter__\u001b[0;34m(self)\u001b[0m\n\u001b[1;32m   1175\u001b[0m time \u001b[39m=\u001b[39m \u001b[39mself\u001b[39m\u001b[39m.\u001b[39m_time\n\u001b[1;32m   1177\u001b[0m \u001b[39mtry\u001b[39;00m:\n\u001b[0;32m-> 1178\u001b[0m     \u001b[39mfor\u001b[39;00m obj \u001b[39min\u001b[39;00m iterable:\n\u001b[1;32m   1179\u001b[0m         \u001b[39myield\u001b[39;00m obj\n\u001b[1;32m   1180\u001b[0m         \u001b[39m# Update and possibly print the progressbar.\u001b[39;00m\n\u001b[1;32m   1181\u001b[0m         \u001b[39m# Note: does not call self.update(1) for speed optimisation.\u001b[39;00m\n",
      "File \u001b[0;32m~/Documents/CANIDS/code/data_helpers/CANDataLoader.py:32\u001b[0m, in \u001b[0;36mCANDataLoader.__getitem__\u001b[0;34m(self, idx)\u001b[0m\n\u001b[1;32m     30\u001b[0m \u001b[39m# can_data = [df1,df2,df3]\u001b[39;00m\n\u001b[1;32m     31\u001b[0m current_df \u001b[39m=\u001b[39m \u001b[39mself\u001b[39m\u001b[39m.\u001b[39mcan_data[\u001b[39mself\u001b[39m\u001b[39m.\u001b[39mcurrent_df_index]\n\u001b[0;32m---> 32\u001b[0m processed_batch \u001b[39m=\u001b[39m \u001b[39mself\u001b[39;49m\u001b[39m.\u001b[39;49mextract_features(current_df)\n\u001b[1;32m     34\u001b[0m \u001b[39mwhile\u001b[39;00m \u001b[39mlen\u001b[39m(processed_batch) \u001b[39m<\u001b[39m \u001b[39mself\u001b[39m\u001b[39m.\u001b[39mbatch_size:\n\u001b[1;32m     35\u001b[0m     \u001b[39mself\u001b[39m\u001b[39m.\u001b[39mcurrent_df_index \u001b[39m+\u001b[39m\u001b[39m=\u001b[39m \u001b[39m1\u001b[39m\n",
      "File \u001b[0;32m~/Documents/CANIDS/code/data_helpers/CANDataLoader.py:68\u001b[0m, in \u001b[0;36mCANDataLoader.extract_features\u001b[0;34m(self, df)\u001b[0m\n\u001b[1;32m     66\u001b[0m \u001b[39mfor\u001b[39;00m feature_name, feature_config \u001b[39min\u001b[39;00m \u001b[39mself\u001b[39m\u001b[39m.\u001b[39mconfig\u001b[39m.\u001b[39mitems():\n\u001b[1;32m     67\u001b[0m     \u001b[39mif\u001b[39;00m feature_config[\u001b[39m'\u001b[39m\u001b[39mspecific_to_can_id\u001b[39m\u001b[39m'\u001b[39m]:\n\u001b[0;32m---> 68\u001b[0m         history \u001b[39m=\u001b[39m df[df[\u001b[39m'\u001b[39;49m\u001b[39maid\u001b[39;49m\u001b[39m'\u001b[39;49m] \u001b[39m==\u001b[39;49m row[\u001b[39m'\u001b[39;49m\u001b[39maid\u001b[39;49m\u001b[39m'\u001b[39;49m]]\u001b[39m.\u001b[39miloc[:index]\n\u001b[1;32m     69\u001b[0m         history \u001b[39m=\u001b[39m history\u001b[39m.\u001b[39mtail(feature_config[\u001b[39m'\u001b[39m\u001b[39mrecords_back\u001b[39m\u001b[39m'\u001b[39m])\n\u001b[1;32m     70\u001b[0m     \u001b[39melse\u001b[39;00m:\n",
      "File \u001b[0;32m/opt/homebrew/lib/python3.11/site-packages/pandas/core/frame.py:3884\u001b[0m, in \u001b[0;36mDataFrame.__getitem__\u001b[0;34m(self, key)\u001b[0m\n\u001b[1;32m   3882\u001b[0m \u001b[39m# Do we have a (boolean) 1d indexer?\u001b[39;00m\n\u001b[1;32m   3883\u001b[0m \u001b[39mif\u001b[39;00m com\u001b[39m.\u001b[39mis_bool_indexer(key):\n\u001b[0;32m-> 3884\u001b[0m     \u001b[39mreturn\u001b[39;00m \u001b[39mself\u001b[39;49m\u001b[39m.\u001b[39;49m_getitem_bool_array(key)\n\u001b[1;32m   3886\u001b[0m \u001b[39m# We are left with two options: a single key, and a collection of keys,\u001b[39;00m\n\u001b[1;32m   3887\u001b[0m \u001b[39m# We interpret tuples as collections only for non-MultiIndex\u001b[39;00m\n\u001b[1;32m   3888\u001b[0m is_single_key \u001b[39m=\u001b[39m \u001b[39misinstance\u001b[39m(key, \u001b[39mtuple\u001b[39m) \u001b[39mor\u001b[39;00m \u001b[39mnot\u001b[39;00m is_list_like(key)\n",
      "File \u001b[0;32m/opt/homebrew/lib/python3.11/site-packages/pandas/core/frame.py:3946\u001b[0m, in \u001b[0;36mDataFrame._getitem_bool_array\u001b[0;34m(self, key)\u001b[0m\n\u001b[1;32m   3943\u001b[0m     \u001b[39mreturn\u001b[39;00m \u001b[39mself\u001b[39m\u001b[39m.\u001b[39mcopy(deep\u001b[39m=\u001b[39m\u001b[39mNone\u001b[39;00m)\n\u001b[1;32m   3945\u001b[0m indexer \u001b[39m=\u001b[39m key\u001b[39m.\u001b[39mnonzero()[\u001b[39m0\u001b[39m]\n\u001b[0;32m-> 3946\u001b[0m \u001b[39mreturn\u001b[39;00m \u001b[39mself\u001b[39;49m\u001b[39m.\u001b[39;49m_take_with_is_copy(indexer, axis\u001b[39m=\u001b[39;49m\u001b[39m0\u001b[39;49m)\n",
      "File \u001b[0;32m/opt/homebrew/lib/python3.11/site-packages/pandas/core/generic.py:4088\u001b[0m, in \u001b[0;36mNDFrame._take_with_is_copy\u001b[0;34m(self, indices, axis)\u001b[0m\n\u001b[1;32m   4077\u001b[0m \u001b[39m@final\u001b[39m\n\u001b[1;32m   4078\u001b[0m \u001b[39mdef\u001b[39;00m \u001b[39m_take_with_is_copy\u001b[39m(\u001b[39mself\u001b[39m, indices, axis: Axis \u001b[39m=\u001b[39m \u001b[39m0\u001b[39m) \u001b[39m-\u001b[39m\u001b[39m>\u001b[39m Self:\n\u001b[1;32m   4079\u001b[0m \u001b[39m    \u001b[39m\u001b[39m\"\"\"\u001b[39;00m\n\u001b[1;32m   4080\u001b[0m \u001b[39m    Internal version of the `take` method that sets the `_is_copy`\u001b[39;00m\n\u001b[1;32m   4081\u001b[0m \u001b[39m    attribute to keep track of the parent dataframe (using in indexing\u001b[39;00m\n\u001b[0;32m   (...)\u001b[0m\n\u001b[1;32m   4086\u001b[0m \u001b[39m    See the docstring of `take` for full explanation of the parameters.\u001b[39;00m\n\u001b[1;32m   4087\u001b[0m \u001b[39m    \"\"\"\u001b[39;00m\n\u001b[0;32m-> 4088\u001b[0m     result \u001b[39m=\u001b[39m \u001b[39mself\u001b[39;49m\u001b[39m.\u001b[39;49mtake(indices\u001b[39m=\u001b[39;49mindices, axis\u001b[39m=\u001b[39;49maxis)\n\u001b[1;32m   4089\u001b[0m     \u001b[39m# Maybe set copy if we didn't actually change the index.\u001b[39;00m\n\u001b[1;32m   4090\u001b[0m     \u001b[39mif\u001b[39;00m \u001b[39mself\u001b[39m\u001b[39m.\u001b[39mndim \u001b[39m==\u001b[39m \u001b[39m2\u001b[39m \u001b[39mand\u001b[39;00m \u001b[39mnot\u001b[39;00m result\u001b[39m.\u001b[39m_get_axis(axis)\u001b[39m.\u001b[39mequals(\u001b[39mself\u001b[39m\u001b[39m.\u001b[39m_get_axis(axis)):\n",
      "File \u001b[0;32m/opt/homebrew/lib/python3.11/site-packages/pandas/core/generic.py:4068\u001b[0m, in \u001b[0;36mNDFrame.take\u001b[0;34m(self, indices, axis, **kwargs)\u001b[0m\n\u001b[1;32m   4063\u001b[0m     \u001b[39m# We can get here with a slice via DataFrame.__getitem__\u001b[39;00m\n\u001b[1;32m   4064\u001b[0m     indices \u001b[39m=\u001b[39m np\u001b[39m.\u001b[39marange(\n\u001b[1;32m   4065\u001b[0m         indices\u001b[39m.\u001b[39mstart, indices\u001b[39m.\u001b[39mstop, indices\u001b[39m.\u001b[39mstep, dtype\u001b[39m=\u001b[39mnp\u001b[39m.\u001b[39mintp\n\u001b[1;32m   4066\u001b[0m     )\n\u001b[0;32m-> 4068\u001b[0m new_data \u001b[39m=\u001b[39m \u001b[39mself\u001b[39;49m\u001b[39m.\u001b[39;49m_mgr\u001b[39m.\u001b[39;49mtake(\n\u001b[1;32m   4069\u001b[0m     indices,\n\u001b[1;32m   4070\u001b[0m     axis\u001b[39m=\u001b[39;49m\u001b[39mself\u001b[39;49m\u001b[39m.\u001b[39;49m_get_block_manager_axis(axis),\n\u001b[1;32m   4071\u001b[0m     verify\u001b[39m=\u001b[39;49m\u001b[39mTrue\u001b[39;49;00m,\n\u001b[1;32m   4072\u001b[0m )\n\u001b[1;32m   4073\u001b[0m \u001b[39mreturn\u001b[39;00m \u001b[39mself\u001b[39m\u001b[39m.\u001b[39m_constructor_from_mgr(new_data, axes\u001b[39m=\u001b[39mnew_data\u001b[39m.\u001b[39maxes)\u001b[39m.\u001b[39m__finalize__(\n\u001b[1;32m   4074\u001b[0m     \u001b[39mself\u001b[39m, method\u001b[39m=\u001b[39m\u001b[39m\"\u001b[39m\u001b[39mtake\u001b[39m\u001b[39m\"\u001b[39m\n\u001b[1;32m   4075\u001b[0m )\n",
      "File \u001b[0;32m/opt/homebrew/lib/python3.11/site-packages/pandas/core/internals/managers.py:877\u001b[0m, in \u001b[0;36mBaseBlockManager.take\u001b[0;34m(self, indexer, axis, verify)\u001b[0m\n\u001b[1;32m    874\u001b[0m indexer \u001b[39m=\u001b[39m maybe_convert_indices(indexer, n, verify\u001b[39m=\u001b[39mverify)\n\u001b[1;32m    876\u001b[0m new_labels \u001b[39m=\u001b[39m \u001b[39mself\u001b[39m\u001b[39m.\u001b[39maxes[axis]\u001b[39m.\u001b[39mtake(indexer)\n\u001b[0;32m--> 877\u001b[0m \u001b[39mreturn\u001b[39;00m \u001b[39mself\u001b[39;49m\u001b[39m.\u001b[39;49mreindex_indexer(\n\u001b[1;32m    878\u001b[0m     new_axis\u001b[39m=\u001b[39;49mnew_labels,\n\u001b[1;32m    879\u001b[0m     indexer\u001b[39m=\u001b[39;49mindexer,\n\u001b[1;32m    880\u001b[0m     axis\u001b[39m=\u001b[39;49maxis,\n\u001b[1;32m    881\u001b[0m     allow_dups\u001b[39m=\u001b[39;49m\u001b[39mTrue\u001b[39;49;00m,\n\u001b[1;32m    882\u001b[0m     copy\u001b[39m=\u001b[39;49m\u001b[39mNone\u001b[39;49;00m,\n\u001b[1;32m    883\u001b[0m )\n",
      "File \u001b[0;32m/opt/homebrew/lib/python3.11/site-packages/pandas/core/internals/managers.py:670\u001b[0m, in \u001b[0;36mBaseBlockManager.reindex_indexer\u001b[0;34m(self, new_axis, indexer, axis, fill_value, allow_dups, copy, only_slice, use_na_proxy)\u001b[0m\n\u001b[1;32m    663\u001b[0m     new_blocks \u001b[39m=\u001b[39m \u001b[39mself\u001b[39m\u001b[39m.\u001b[39m_slice_take_blocks_ax0(\n\u001b[1;32m    664\u001b[0m         indexer,\n\u001b[1;32m    665\u001b[0m         fill_value\u001b[39m=\u001b[39mfill_value,\n\u001b[1;32m    666\u001b[0m         only_slice\u001b[39m=\u001b[39monly_slice,\n\u001b[1;32m    667\u001b[0m         use_na_proxy\u001b[39m=\u001b[39muse_na_proxy,\n\u001b[1;32m    668\u001b[0m     )\n\u001b[1;32m    669\u001b[0m \u001b[39melse\u001b[39;00m:\n\u001b[0;32m--> 670\u001b[0m     new_blocks \u001b[39m=\u001b[39m [\n\u001b[1;32m    671\u001b[0m         blk\u001b[39m.\u001b[39;49mtake_nd(\n\u001b[1;32m    672\u001b[0m             indexer,\n\u001b[1;32m    673\u001b[0m             axis\u001b[39m=\u001b[39;49m\u001b[39m1\u001b[39;49m,\n\u001b[1;32m    674\u001b[0m             fill_value\u001b[39m=\u001b[39;49m(\n\u001b[1;32m    675\u001b[0m                 fill_value \u001b[39mif\u001b[39;49;00m fill_value \u001b[39mis\u001b[39;49;00m \u001b[39mnot\u001b[39;49;00m \u001b[39mNone\u001b[39;49;00m \u001b[39melse\u001b[39;49;00m blk\u001b[39m.\u001b[39;49mfill_value\n\u001b[1;32m    676\u001b[0m             ),\n\u001b[1;32m    677\u001b[0m         )\n\u001b[1;32m    678\u001b[0m         \u001b[39mfor\u001b[39;49;00m blk \u001b[39min\u001b[39;49;00m \u001b[39mself\u001b[39;49m\u001b[39m.\u001b[39;49mblocks\n\u001b[1;32m    679\u001b[0m     ]\n\u001b[1;32m    681\u001b[0m new_axes \u001b[39m=\u001b[39m \u001b[39mlist\u001b[39m(\u001b[39mself\u001b[39m\u001b[39m.\u001b[39maxes)\n\u001b[1;32m    682\u001b[0m new_axes[axis] \u001b[39m=\u001b[39m new_axis\n",
      "File \u001b[0;32m/opt/homebrew/lib/python3.11/site-packages/pandas/core/internals/managers.py:671\u001b[0m, in \u001b[0;36m<listcomp>\u001b[0;34m(.0)\u001b[0m\n\u001b[1;32m    663\u001b[0m     new_blocks \u001b[39m=\u001b[39m \u001b[39mself\u001b[39m\u001b[39m.\u001b[39m_slice_take_blocks_ax0(\n\u001b[1;32m    664\u001b[0m         indexer,\n\u001b[1;32m    665\u001b[0m         fill_value\u001b[39m=\u001b[39mfill_value,\n\u001b[1;32m    666\u001b[0m         only_slice\u001b[39m=\u001b[39monly_slice,\n\u001b[1;32m    667\u001b[0m         use_na_proxy\u001b[39m=\u001b[39muse_na_proxy,\n\u001b[1;32m    668\u001b[0m     )\n\u001b[1;32m    669\u001b[0m \u001b[39melse\u001b[39;00m:\n\u001b[1;32m    670\u001b[0m     new_blocks \u001b[39m=\u001b[39m [\n\u001b[0;32m--> 671\u001b[0m         blk\u001b[39m.\u001b[39;49mtake_nd(\n\u001b[1;32m    672\u001b[0m             indexer,\n\u001b[1;32m    673\u001b[0m             axis\u001b[39m=\u001b[39;49m\u001b[39m1\u001b[39;49m,\n\u001b[1;32m    674\u001b[0m             fill_value\u001b[39m=\u001b[39;49m(\n\u001b[1;32m    675\u001b[0m                 fill_value \u001b[39mif\u001b[39;49;00m fill_value \u001b[39mis\u001b[39;49;00m \u001b[39mnot\u001b[39;49;00m \u001b[39mNone\u001b[39;49;00m \u001b[39melse\u001b[39;49;00m blk\u001b[39m.\u001b[39;49mfill_value\n\u001b[1;32m    676\u001b[0m             ),\n\u001b[1;32m    677\u001b[0m         )\n\u001b[1;32m    678\u001b[0m         \u001b[39mfor\u001b[39;00m blk \u001b[39min\u001b[39;00m \u001b[39mself\u001b[39m\u001b[39m.\u001b[39mblocks\n\u001b[1;32m    679\u001b[0m     ]\n\u001b[1;32m    681\u001b[0m new_axes \u001b[39m=\u001b[39m \u001b[39mlist\u001b[39m(\u001b[39mself\u001b[39m\u001b[39m.\u001b[39maxes)\n\u001b[1;32m    682\u001b[0m new_axes[axis] \u001b[39m=\u001b[39m new_axis\n",
      "File \u001b[0;32m/opt/homebrew/lib/python3.11/site-packages/pandas/core/internals/blocks.py:1061\u001b[0m, in \u001b[0;36mBlock.take_nd\u001b[0;34m(self, indexer, axis, new_mgr_locs, fill_value)\u001b[0m\n\u001b[1;32m   1058\u001b[0m     allow_fill \u001b[39m=\u001b[39m \u001b[39mTrue\u001b[39;00m\n\u001b[1;32m   1060\u001b[0m \u001b[39m# Note: algos.take_nd has upcast logic similar to coerce_to_target_dtype\u001b[39;00m\n\u001b[0;32m-> 1061\u001b[0m new_values \u001b[39m=\u001b[39m algos\u001b[39m.\u001b[39;49mtake_nd(\n\u001b[1;32m   1062\u001b[0m     values, indexer, axis\u001b[39m=\u001b[39;49maxis, allow_fill\u001b[39m=\u001b[39;49mallow_fill, fill_value\u001b[39m=\u001b[39;49mfill_value\n\u001b[1;32m   1063\u001b[0m )\n\u001b[1;32m   1065\u001b[0m \u001b[39m# Called from three places in managers, all of which satisfy\u001b[39;00m\n\u001b[1;32m   1066\u001b[0m \u001b[39m#  these assertions\u001b[39;00m\n\u001b[1;32m   1067\u001b[0m \u001b[39mif\u001b[39;00m \u001b[39misinstance\u001b[39m(\u001b[39mself\u001b[39m, ExtensionBlock):\n\u001b[1;32m   1068\u001b[0m     \u001b[39m# NB: in this case, the 'axis' kwarg will be ignored in the\u001b[39;00m\n\u001b[1;32m   1069\u001b[0m     \u001b[39m#  algos.take_nd call above.\u001b[39;00m\n",
      "File \u001b[0;32m/opt/homebrew/lib/python3.11/site-packages/pandas/core/array_algos/take.py:118\u001b[0m, in \u001b[0;36mtake_nd\u001b[0;34m(arr, indexer, axis, fill_value, allow_fill)\u001b[0m\n\u001b[1;32m    115\u001b[0m     \u001b[39mreturn\u001b[39;00m arr\u001b[39m.\u001b[39mtake(indexer, fill_value\u001b[39m=\u001b[39mfill_value, allow_fill\u001b[39m=\u001b[39mallow_fill)\n\u001b[1;32m    117\u001b[0m arr \u001b[39m=\u001b[39m np\u001b[39m.\u001b[39masarray(arr)\n\u001b[0;32m--> 118\u001b[0m \u001b[39mreturn\u001b[39;00m _take_nd_ndarray(arr, indexer, axis, fill_value, allow_fill)\n",
      "File \u001b[0;32m/opt/homebrew/lib/python3.11/site-packages/pandas/core/array_algos/take.py:163\u001b[0m, in \u001b[0;36m_take_nd_ndarray\u001b[0;34m(arr, indexer, axis, fill_value, allow_fill)\u001b[0m\n\u001b[1;32m    158\u001b[0m     out \u001b[39m=\u001b[39m np\u001b[39m.\u001b[39mempty(out_shape, dtype\u001b[39m=\u001b[39mdtype)\n\u001b[1;32m    160\u001b[0m func \u001b[39m=\u001b[39m _get_take_nd_function(\n\u001b[1;32m    161\u001b[0m     arr\u001b[39m.\u001b[39mndim, arr\u001b[39m.\u001b[39mdtype, out\u001b[39m.\u001b[39mdtype, axis\u001b[39m=\u001b[39maxis, mask_info\u001b[39m=\u001b[39mmask_info\n\u001b[1;32m    162\u001b[0m )\n\u001b[0;32m--> 163\u001b[0m func(arr, indexer, out, fill_value)\n\u001b[1;32m    165\u001b[0m \u001b[39mif\u001b[39;00m flip_order:\n\u001b[1;32m    166\u001b[0m     out \u001b[39m=\u001b[39m out\u001b[39m.\u001b[39mT\n",
      "\u001b[0;31mKeyboardInterrupt\u001b[0m: "
     ]
    }
   ],
   "source": [
    "from tqdm import tqdm\n",
    "\n",
    "meta_results = {}\n",
    "for threshold in [.000095, .000085, .000075, .000065, .000055]:\n",
    "    results = {}\n",
    "    for i, loader in enumerate(attack_loaders):\n",
    "        filename = loader.can_data[0].filename[0]\n",
    "        print(f\"Testing on {filename}\")\n",
    "        results[filename] = calculate_metrics(detector.detect_attacks(loader))\n",
    "        print(results[filename])\n",
    "    meta_results[threshold] = results\n",
    "\n",
    "print(meta_results)"
   ]
  }
 ],
 "metadata": {
  "kernelspec": {
   "display_name": "torch",
   "language": "python",
   "name": "torch"
  },
  "language_info": {
   "codemirror_mode": {
    "name": "ipython",
    "version": 3
   },
   "file_extension": ".py",
   "mimetype": "text/x-python",
   "name": "python",
   "nbconvert_exporter": "python",
   "pygments_lexer": "ipython3",
   "version": "3.11.4"
  }
 },
 "nbformat": 4,
 "nbformat_minor": 2
}
