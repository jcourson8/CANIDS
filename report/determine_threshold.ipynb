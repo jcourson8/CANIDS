{
 "cells": [
  {
   "cell_type": "code",
   "execution_count": 1,
   "metadata": {},
   "outputs": [
    {
     "name": "stdout",
     "output_type": "stream",
     "text": [
      "Found ambient and attack directories.\n",
      "Loading CAN metadata...\n",
      "Parquet files found...\n",
      "Found processed parquet files...\n",
      "Loading processed parquet files...\n",
      "Loading processing data into 'CANData' structure\n",
      "No attack labels in accelerator_attack_drive_1.log\n",
      "No attack labels in accelerator_attack_drive_2.log\n",
      "No attack labels in accelerator_attack_reverse_1.log\n",
      "No attack labels in accelerator_attack_reverse_2.log\n",
      "Found attack labels in correlated_signal_attack_1.log\n",
      "Found attack labels in correlated_signal_attack_2.log\n",
      "Found attack labels in correlated_signal_attack_3.log\n",
      "Found attack labels in fuzzing_attack_1.log\n",
      "Found attack labels in fuzzing_attack_2.log\n",
      "Found attack labels in fuzzing_attack_3.log\n",
      "Found attack labels in max_engine_coolant_temp_attack.log\n",
      "Found attack labels in max_speedometer_attack_1.log\n",
      "Found attack labels in max_speedometer_attack_2.log\n",
      "Found attack labels in max_speedometer_attack_3.log\n",
      "Found attack labels in reverse_light_off_attack_1.log\n",
      "Found attack labels in reverse_light_off_attack_2.log\n",
      "Found attack labels in reverse_light_off_attack_3.log\n",
      "Found attack labels in reverse_light_on_attack_1.log\n",
      "Found attack labels in reverse_light_on_attack_2.log\n",
      "Found attack labels in reverse_light_on_attack_3.log\n"
     ]
    }
   ],
   "source": [
    "import os \n",
    "import sys \n",
    "parent_dir = os.path.dirname(os.getcwd())\n",
    "sys.path.append(\"/home/jbc0071/Documents/CANIDS/code\")\n",
    "# sys.path.append(parent_dir + \"/code\")\n",
    "\n",
    "from model.CANnoloAttackDetector import CANnoloAttackDetector\n",
    "from data_helpers.CANDataset import CANDataset\n",
    "from helpers import calculate_feature_vec_length, seperate_attack_loader, calculate_metrics\n",
    "from dotenv import load_dotenv\n",
    "# from data_helpers.CANDataLoader import CANDataLoader\n",
    "import os\n",
    "\n",
    "load_dotenv()\n",
    "data_path = os.getenv('DATA_PATH')\n",
    "dataset = CANDataset(data_path, log_verbosity=1)\n",
    "\n",
    "config = {\n",
    "    \"batch_size\": 32,\n",
    "    \"delta_time_last_msg\": {\n",
    "        \"specific_to_can_id\": False,\n",
    "        \"records_back\": 30\n",
    "    },\n",
    "    \"delta_time_last_same_aid\": {\n",
    "        \"specific_to_can_id\": True,\n",
    "        \"records_back\": 15\n",
    "    },\n",
    "}\n",
    "\n",
    "ambient_loader, validation_loader, attack_loader = dataset.get_dataloaders(config)\n",
    "\n",
    "attack_loaders = seperate_attack_loader(attack_loader, config, remove_non_labelled=True)"
   ]
  },
  {
   "cell_type": "code",
   "execution_count": 4,
   "metadata": {},
   "outputs": [],
   "source": [
    "\n",
    "unique_can_ids = dataset.get_unique_can_ids()\n",
    "num_can_ids = len(unique_can_ids)\n",
    "feature_vec_length = ambient_loader.features_len\n",
    "\n",
    "# Load model\n",
    "model_path = 'models/canolo_model_112.pt'\n",
    "\n",
    "model_config = {\n",
    "    \"embedding_dim\": num_can_ids,\n",
    "    \"lstm_units\": 128,\n",
    "    \"dense_units\": 256,\n",
    "    \"dropout_rate\": 0.2,\n",
    "    \"num_embeddings\": max(unique_can_ids) + 1, # not sure why + 1 rn but it works\n",
    "    \"feature_vec_length\": calculate_feature_vec_length(config)\n",
    "}\n",
    "\n",
    "threshold = 0\n",
    "\n"
   ]
  },
  {
   "cell_type": "code",
   "execution_count": 6,
   "metadata": {},
   "outputs": [
    {
     "name": "stdout",
     "output_type": "stream",
     "text": [
      "Neither CUDA nor MPS is available. Using CPU...\n",
      "5.792846968688534e-066\r"
     ]
    }
   ],
   "source": [
    "detector = CANnoloAttackDetector(model_path, threshold, model_config)\n",
    "detector.determine_threshold(ambient_loader)"
   ]
  }
 ],
 "metadata": {
  "kernelspec": {
   "display_name": "pytorch",
   "language": "python",
   "name": "python3"
  },
  "language_info": {
   "codemirror_mode": {
    "name": "ipython",
    "version": 3
   },
   "file_extension": ".py",
   "mimetype": "text/x-python",
   "name": "python",
   "nbconvert_exporter": "python",
   "pygments_lexer": "ipython3",
   "version": "3.11.5"
  },
  "orig_nbformat": 4
 },
 "nbformat": 4,
 "nbformat_minor": 2
}
