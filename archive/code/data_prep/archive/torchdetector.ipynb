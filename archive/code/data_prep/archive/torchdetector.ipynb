{
 "cells": [
  {
   "cell_type": "markdown",
   "metadata": {},
   "source": [
    "#### Load Data"
   ]
  },
  {
   "cell_type": "code",
   "execution_count": 5,
   "metadata": {},
   "outputs": [
    {
     "ename": "ModuleNotFoundError",
     "evalue": "No module named 'CanDataset'",
     "output_type": "error",
     "traceback": [
      "\u001b[0;31m---------------------------------------------------------------------------\u001b[0m",
      "\u001b[0;31mModuleNotFoundError\u001b[0m                       Traceback (most recent call last)",
      "\u001b[1;32m/Users/jamescourson/Documents/CANIDS/code_final/torchdetector.ipynb Cell 2\u001b[0m line \u001b[0;36m1\n\u001b[0;32m----> <a href='vscode-notebook-cell:/Users/jamescourson/Documents/CANIDS/code_final/torchdetector.ipynb#W1sZmlsZQ%3D%3D?line=0'>1</a>\u001b[0m \u001b[39mfrom\u001b[39;00m \u001b[39mCanDataset\u001b[39;00m \u001b[39mimport\u001b[39;00m CanDataset\n\u001b[1;32m      <a href='vscode-notebook-cell:/Users/jamescourson/Documents/CANIDS/code_final/torchdetector.ipynb#W1sZmlsZQ%3D%3D?line=1'>2</a>\u001b[0m \u001b[39mfrom\u001b[39;00m \u001b[39mdotenv\u001b[39;00m \u001b[39mimport\u001b[39;00m load_dotenv\n\u001b[1;32m      <a href='vscode-notebook-cell:/Users/jamescourson/Documents/CANIDS/code_final/torchdetector.ipynb#W1sZmlsZQ%3D%3D?line=2'>3</a>\u001b[0m \u001b[39mimport\u001b[39;00m \u001b[39mtorch\u001b[39;00m\n",
      "\u001b[0;31mModuleNotFoundError\u001b[0m: No module named 'CanDataset'"
     ]
    }
   ],
   "source": [
    "from CanDataset import CanDataset\n",
    "from dotenv import load_dotenv\n",
    "import torch\n",
    "import torch.nn as nn\n",
    "import os\n",
    "\n",
    "load_dotenv()\n",
    "data_path = os.getenv('DATA_PATH')\n",
    "dataset = CanDataset(data_path, log_verbosity=4)"
   ]
  },
  {
   "cell_type": "markdown",
   "metadata": {},
   "source": [
    "#### ML model"
   ]
  },
  {
   "cell_type": "code",
   "execution_count": null,
   "metadata": {},
   "outputs": [],
   "source": [
    "class CANnoloAutoencoder(nn.Module):\n",
    "    def __init__(self, embedding_dim, lstm_units, dense_units, dropout_rate, num_embeddings, feature_vec_length):\n",
    "        super(CANnoloAutoencoder, self).__init__()\n",
    "\n",
    "        # Encoder\n",
    "        self.embedding = nn.Embedding(num_embeddings, embedding_dim)\n",
    "        self.encoder_dense = nn.Linear(embedding_dim + feature_vec_length, dense_units)\n",
    "        self.encoder_dropout = nn.Dropout(dropout_rate)\n",
    "        self.encoder_lstm = nn.LSTM(input_size=dense_units, hidden_size=lstm_units, num_layers=2, batch_first=True)\n",
    "\n",
    "        # Decoder\n",
    "        self.decoder_lstm = nn.LSTM(input_size=lstm_units, hidden_size=lstm_units, num_layers=2, batch_first=True)\n",
    "        self.decoder_dense = nn.Linear(lstm_units, feature_vec_length) \n",
    "        self.decoder_output = nn.Sigmoid()  # To reconstruct the original packets\n",
    "\n",
    "    def forward(self, can_ids, features):\n",
    "        # Encoding\n",
    "        embedded_ids = self.embedding(can_ids)\n",
    "        # You might need to concatenate the embedded IDs with other features\n",
    "        x = torch.cat([embedded_ids, features], dim=1)\n",
    "        x = torch.tanh(self.encoder_dense(x))\n",
    "        x = self.encoder_dropout(x)\n",
    "        x, _ = self.encoder_lstm(x)\n",
    "\n",
    "        # Decoding\n",
    "        x, _ = self.decoder_lstm(x)\n",
    "        x = self.decoder_dense(x)\n",
    "        reconstructed = self.decoder_output(x)\n",
    "\n",
    "        return reconstructed\n",
    "\n"
   ]
  },
  {
   "cell_type": "code",
   "execution_count": null,
   "metadata": {},
   "outputs": [],
   "source": [
    "# CANID   -\n",
    "# f1      -        -  reconstructed_f1\n",
    "# f2      -   -    -  reconstructed_f2\n",
    "# f3      -        -  reconstructed_f3"
   ]
  },
  {
   "cell_type": "code",
   "execution_count": null,
   "metadata": {},
   "outputs": [
    {
     "data": {
      "text/html": [
       "<div>\n",
       "<style scoped>\n",
       "    .dataframe tbody tr th:only-of-type {\n",
       "        vertical-align: middle;\n",
       "    }\n",
       "\n",
       "    .dataframe tbody tr th {\n",
       "        vertical-align: top;\n",
       "    }\n",
       "\n",
       "    .dataframe thead th {\n",
       "        text-align: right;\n",
       "    }\n",
       "</style>\n",
       "<table border=\"1\" class=\"dataframe\">\n",
       "  <thead>\n",
       "    <tr style=\"text-align: right;\">\n",
       "      <th></th>\n",
       "      <th>time</th>\n",
       "      <th>aid</th>\n",
       "      <th>data</th>\n",
       "      <th>filename</th>\n",
       "      <th>delta_time_last_msg</th>\n",
       "      <th>delta_time_last_same_aid</th>\n",
       "      <th>actual_attack</th>\n",
       "    </tr>\n",
       "  </thead>\n",
       "  <tbody>\n",
       "    <tr>\n",
       "      <th>0</th>\n",
       "      <td>0.000000e+00</td>\n",
       "      <td>354</td>\n",
       "      <td>00080003EA11F4CE</td>\n",
       "      <td>max_engine_coolant_temp_attack.log</td>\n",
       "      <td>0.000000e+00</td>\n",
       "      <td>NaN</td>\n",
       "      <td>False</td>\n",
       "    </tr>\n",
       "    <tr>\n",
       "      <th>1</th>\n",
       "      <td>9.536743e-07</td>\n",
       "      <td>167</td>\n",
       "      <td>2010FA24D125C0A0</td>\n",
       "      <td>max_engine_coolant_temp_attack.log</td>\n",
       "      <td>9.536743e-07</td>\n",
       "      <td>NaN</td>\n",
       "      <td>False</td>\n",
       "    </tr>\n",
       "    <tr>\n",
       "      <th>2</th>\n",
       "      <td>9.961128e-04</td>\n",
       "      <td>813</td>\n",
       "      <td>00000424CC010000</td>\n",
       "      <td>max_engine_coolant_temp_attack.log</td>\n",
       "      <td>9.951591e-04</td>\n",
       "      <td>NaN</td>\n",
       "      <td>False</td>\n",
       "    </tr>\n",
       "    <tr>\n",
       "      <th>3</th>\n",
       "      <td>2.017021e-03</td>\n",
       "      <td>1398</td>\n",
       "      <td>7FF800003FFC1FC0</td>\n",
       "      <td>max_engine_coolant_temp_attack.log</td>\n",
       "      <td>1.020908e-03</td>\n",
       "      <td>NaN</td>\n",
       "      <td>False</td>\n",
       "    </tr>\n",
       "    <tr>\n",
       "      <th>4</th>\n",
       "      <td>5.083084e-03</td>\n",
       "      <td>403</td>\n",
       "      <td>00080803E6E80000</td>\n",
       "      <td>max_engine_coolant_temp_attack.log</td>\n",
       "      <td>3.066063e-03</td>\n",
       "      <td>NaN</td>\n",
       "      <td>False</td>\n",
       "    </tr>\n",
       "    <tr>\n",
       "      <th>...</th>\n",
       "      <td>...</td>\n",
       "      <td>...</td>\n",
       "      <td>...</td>\n",
       "      <td>...</td>\n",
       "      <td>...</td>\n",
       "      <td>...</td>\n",
       "      <td>...</td>\n",
       "    </tr>\n",
       "    <tr>\n",
       "      <th>58013</th>\n",
       "      <td>2.587254e+01</td>\n",
       "      <td>167</td>\n",
       "      <td>0010FC64C12820A0</td>\n",
       "      <td>max_engine_coolant_temp_attack.log</td>\n",
       "      <td>1.192093e-06</td>\n",
       "      <td>0.011015</td>\n",
       "      <td>False</td>\n",
       "    </tr>\n",
       "    <tr>\n",
       "      <th>58014</th>\n",
       "      <td>2.587353e+01</td>\n",
       "      <td>722</td>\n",
       "      <td>0000480000000000</td>\n",
       "      <td>max_engine_coolant_temp_attack.log</td>\n",
       "      <td>9.939671e-04</td>\n",
       "      <td>0.100365</td>\n",
       "      <td>False</td>\n",
       "    </tr>\n",
       "    <tr>\n",
       "      <th>58015</th>\n",
       "      <td>2.587353e+01</td>\n",
       "      <td>996</td>\n",
       "      <td>0134000005000000</td>\n",
       "      <td>max_engine_coolant_temp_attack.log</td>\n",
       "      <td>2.861023e-06</td>\n",
       "      <td>0.100365</td>\n",
       "      <td>False</td>\n",
       "    </tr>\n",
       "    <tr>\n",
       "      <th>58016</th>\n",
       "      <td>2.587354e+01</td>\n",
       "      <td>1628</td>\n",
       "      <td>4011D26750000000</td>\n",
       "      <td>max_engine_coolant_temp_attack.log</td>\n",
       "      <td>1.192093e-06</td>\n",
       "      <td>0.099327</td>\n",
       "      <td>False</td>\n",
       "    </tr>\n",
       "    <tr>\n",
       "      <th>58017</th>\n",
       "      <td>2.587455e+01</td>\n",
       "      <td>1399</td>\n",
       "      <td>0000080000000146</td>\n",
       "      <td>max_engine_coolant_temp_attack.log</td>\n",
       "      <td>1.015902e-03</td>\n",
       "      <td>0.055144</td>\n",
       "      <td>False</td>\n",
       "    </tr>\n",
       "  </tbody>\n",
       "</table>\n",
       "<p>58018 rows × 7 columns</p>\n",
       "</div>"
      ],
      "text/plain": [
       "               time   aid              data  \\\n",
       "0      0.000000e+00   354  00080003EA11F4CE   \n",
       "1      9.536743e-07   167  2010FA24D125C0A0   \n",
       "2      9.961128e-04   813  00000424CC010000   \n",
       "3      2.017021e-03  1398  7FF800003FFC1FC0   \n",
       "4      5.083084e-03   403  00080803E6E80000   \n",
       "...             ...   ...               ...   \n",
       "58013  2.587254e+01   167  0010FC64C12820A0   \n",
       "58014  2.587353e+01   722  0000480000000000   \n",
       "58015  2.587353e+01   996  0134000005000000   \n",
       "58016  2.587354e+01  1628  4011D26750000000   \n",
       "58017  2.587455e+01  1399  0000080000000146   \n",
       "\n",
       "                                 filename  delta_time_last_msg  \\\n",
       "0      max_engine_coolant_temp_attack.log         0.000000e+00   \n",
       "1      max_engine_coolant_temp_attack.log         9.536743e-07   \n",
       "2      max_engine_coolant_temp_attack.log         9.951591e-04   \n",
       "3      max_engine_coolant_temp_attack.log         1.020908e-03   \n",
       "4      max_engine_coolant_temp_attack.log         3.066063e-03   \n",
       "...                                   ...                  ...   \n",
       "58013  max_engine_coolant_temp_attack.log         1.192093e-06   \n",
       "58014  max_engine_coolant_temp_attack.log         9.939671e-04   \n",
       "58015  max_engine_coolant_temp_attack.log         2.861023e-06   \n",
       "58016  max_engine_coolant_temp_attack.log         1.192093e-06   \n",
       "58017  max_engine_coolant_temp_attack.log         1.015902e-03   \n",
       "\n",
       "       delta_time_last_same_aid  actual_attack  \n",
       "0                           NaN          False  \n",
       "1                           NaN          False  \n",
       "2                           NaN          False  \n",
       "3                           NaN          False  \n",
       "4                           NaN          False  \n",
       "...                         ...            ...  \n",
       "58013                  0.011015          False  \n",
       "58014                  0.100365          False  \n",
       "58015                  0.100365          False  \n",
       "58016                  0.099327          False  \n",
       "58017                  0.055144          False  \n",
       "\n",
       "[58018 rows x 7 columns]"
      ]
     },
     "execution_count": 4,
     "metadata": {},
     "output_type": "execute_result"
    }
   ],
   "source": [
    "dataset.attack_data.max_engine_coolant_temp_attack"
   ]
  },
  {
   "cell_type": "markdown",
   "metadata": {},
   "source": [
    "#### Define config\n",
    "This is what we feed to the CanDataset object to create a dataloader."
   ]
  },
  {
   "cell_type": "code",
   "execution_count": null,
   "metadata": {},
   "outputs": [],
   "source": [
    "config = {\n",
    "    \"batch_size\": 32,\n",
    "    \"delta_time_last_msg\": {\n",
    "        \"specific_to_can_id\": False,\n",
    "        \"records_back\": 30\n",
    "    },\n",
    "    \"delta_time_last_same_aid\": {\n",
    "        \"specific_to_can_id\": True,\n",
    "        \"records_back\": 15\n",
    "    },\n",
    "}\n"
   ]
  },
  {
   "cell_type": "code",
   "execution_count": null,
   "metadata": {},
   "outputs": [],
   "source": []
  },
  {
   "cell_type": "markdown",
   "metadata": {},
   "source": [
    "use `get_dataloaders` on CanDataset object to get the data loaders"
   ]
  },
  {
   "cell_type": "code",
   "execution_count": null,
   "metadata": {},
   "outputs": [],
   "source": [
    "ambient_loader, validation_loader, attack_loader = dataset.get_dataloaders(config)"
   ]
  },
  {
   "cell_type": "code",
   "execution_count": null,
   "metadata": {},
   "outputs": [
    {
     "name": "stdout",
     "output_type": "stream",
     "text": [
      "Number of CAN IDs: 105\n",
      "Feature vector length: 25\n"
     ]
    }
   ],
   "source": [
    "unique_can_ids = dataset.get_unique_can_ids()\n",
    "num_can_ids = len(unique_can_ids)\n",
    "feature_vec_length = ambient_loader.features_len - 1 \n",
    "print(f\"Number of CAN IDs: {num_can_ids}\")\n",
    "print(f\"Feature vector length: {feature_vec_length}\") "
   ]
  },
  {
   "cell_type": "code",
   "execution_count": null,
   "metadata": {},
   "outputs": [],
   "source": [
    "# Hyperparameters\n",
    "embedding_dim = num_can_ids  # embedding dimension should be equal to the number of CAN IDs\n",
    "lstm_units = 128 # defined in canolo paper\n",
    "dense_units = 256 # defined in canolo paper\n",
    "dropout_rate = 0.2 # defined in canolo paper\n",
    "num_embeddings = max(unique_can_ids) + 1 # not sure why + 1 rn but it works\n",
    "\n",
    "# Model\n",
    "model = CANnoloAutoencoder(embedding_dim, lstm_units, dense_units, dropout_rate, num_embeddings, feature_vec_length)\n",
    "\n",
    "# Training parameters\n",
    "batch_size = ambient_loader.batch_size\n",
    "optimizer = torch.optim.Adam(model.parameters())\n",
    "loss_fn = nn.BCELoss()  # Binary Cross-Entropy Loss\n"
   ]
  },
  {
   "cell_type": "markdown",
   "metadata": {},
   "source": [
    "#### Defining our loss function and optimizer"
   ]
  },
  {
   "cell_type": "code",
   "execution_count": null,
   "metadata": {},
   "outputs": [],
   "source": [
    "loss_fn = torch.nn.MSELoss()  # Example loss function\n",
    "optimizer = torch.optim.Adam(model.parameters(), lr=0.001)  # Example optimizer"
   ]
  },
  {
   "cell_type": "code",
   "execution_count": null,
   "metadata": {},
   "outputs": [],
   "source": [
    "from TorchLoader import CANDataLoader\n",
    "from copy import deepcopy\n",
    "\n",
    "config_copy = deepcopy(config)\n",
    "batch_size = config_copy.pop(\"batch_size\", None) # ensure batch_size is in config\n",
    "if not batch_size:\n",
    "    raise Exception(\"Config needs `batch_size`\")\n",
    "    \n",
    "\n",
    "attack_loaders = []\n",
    "for df in attack_loader.can_data:\n",
    "    attack_loaders.append(CANDataLoader([df], config_copy, batch_size))\n",
    "\n"
   ]
  },
  {
   "cell_type": "code",
   "execution_count": null,
   "metadata": {},
   "outputs": [],
   "source": [
    "# for i, loader in enumerate(attack_loaders):\n",
    "#     print(f\"Attack Loader {i}\")\n",
    "#     print(f\"\\tNumber of batches: {len(loader)}\")\n",
    "#     try:\n",
    "\n",
    "#         attacks = loader.can_data[0].actual_attack.sum()\n",
    "#         print(f\"\\tNumber of attacks: {attacks}\")\n",
    "#     except:\n",
    "#         attack_loaders.pop(i)\n",
    "#         print(\"\\tNo attack data\")"
   ]
  },
  {
   "cell_type": "code",
   "execution_count": null,
   "metadata": {},
   "outputs": [],
   "source": []
  },
  {
   "cell_type": "code",
   "execution_count": 3,
   "metadata": {},
   "outputs": [],
   "source": [
    "from tqdm import tqdm\n",
    "import numpy as np\n",
    "\n",
    "class CANnoloAttackDetector:\n",
    "    def __init__(self, model_path, threshold, config):\n",
    "        # Hyperparameters\n",
    "        embedding_dim = num_can_ids  # embedding dimension should be equal to the number of CAN IDs\n",
    "        lstm_units = 128 # defined in canolo paper\n",
    "        dense_units = 256 # defined in canolo paper\n",
    "        dropout_rate = 0.2 # defined in canolo paper\n",
    "        num_embeddings = 1789  # hardcoded\n",
    "\n",
    "        feature_vec_length = config[\"delta_time_last_msg\"][\"records_back\"] + config[\"delta_time_last_same_aid\"][\"records_back\"] \n",
    "\n",
    "        # Model\n",
    "        self.model = CANnoloAutoencoder(embedding_dim, lstm_units, dense_units, dropout_rate, num_embeddings, feature_vec_length)\n",
    "\n",
    "        state_dict = torch.load(model_path)\n",
    "        self.model.load_state_dict(state_dict)\n",
    "        \n",
    "        self.threshold = threshold\n",
    "\n",
    "    def detect_attacks(self, data_loader):\n",
    "        self.model.eval()  # Ensure the model is in evaluation mode\n",
    "        results = []\n",
    "        \n",
    "        with torch.no_grad():\n",
    "            for batch in tqdm(data_loader):\n",
    "                can_ids, features, actual_attacks = batch\n",
    "                \n",
    "                reconstructed = self.model(can_ids, features)\n",
    "\n",
    "                # Compute anomaly scores and predict attacks\n",
    "                scores = self.compute_anomaly_scores(features, reconstructed)\n",
    "                predicted_attacks = (scores > self.threshold).int()  # Convert to 0 or 1\n",
    "\n",
    "                # Store predictions and actual labels\n",
    "                results.extend(zip(predicted_attacks.tolist(), actual_attacks.tolist()))\n",
    "        \n",
    "        data_loader.reset()\n",
    "\n",
    "        return results\n",
    "\n",
    "    def compute_anomaly_scores(self, original, reconstructed):\n",
    "        # Compute anomaly scores (e.g., mean squared error) for each instance in the batch\n",
    "        loss_fn = torch.nn.MSELoss(reduction='none')\n",
    "        scores = loss_fn(original, reconstructed)\n",
    "        return scores.mean(dim=1)  # Mean score across features for each instance\n",
    "    \n",
    "\n",
    "    def determine_threshold(self, normal_data_loader, percentile):\n",
    "        self.model.eval() \n",
    "        all_scores = []\n",
    "\n",
    "        with torch.no_grad():\n",
    "            for batch in tqdm(normal_data_loader):\n",
    "                can_ids, features, _ = batch  # Assuming normal data does not have actual attacks\n",
    "                reconstructed = self.model(can_ids, features)\n",
    "                scores = self.compute_anomaly_scores(features, reconstructed)\n",
    "                all_scores.extend(scores.tolist())\n",
    "\n",
    "        # Consider using a high percentile as the threshold\n",
    "        threshold = np.percentile(all_scores, percentile)  # for example, 95th percentile\n",
    "        normal_data_loader.reset()\n",
    "        return threshold\n",
    "\n",
    "\n",
    "def calculate_metrics(results):\n",
    "    # Initializing the confusion matrix values\n",
    "    TP, TN, FP, FN = 0, 0, 0, 0\n",
    "\n",
    "    for pred, actual in results:\n",
    "        if pred == actual == 1:\n",
    "            TP += 1\n",
    "        elif pred == actual == 0:\n",
    "            TN += 1\n",
    "        elif pred == 1 and actual == 0:\n",
    "            FP += 1\n",
    "        elif pred == 0 and actual == 1:\n",
    "            FN += 1\n",
    "\n",
    "    # Calculating accuracy\n",
    "    total_predictions = len(results)\n",
    "    accuracy = (TP + TN) / total_predictions if total_predictions > 0 else 0\n",
    "\n",
    "    # Creating the confusion matrix\n",
    "    confusion_matrix = [[TP, FP],\n",
    "                        [FN, TN]]\n",
    "    \n",
    "    # Calculating various metrics\n",
    "    accuracy = (TP + TN) / (TP + TN + FP + FN)\n",
    "    precision = TP / (TP + FP) if (TP + FP) > 0 else 0  # Handling division by zero\n",
    "    recall = TP / (TP + FN) if (TP + FN) > 0 else 0  # Handling division by zero\n",
    "    f1_score = 2 * (precision * recall) / (precision + recall) if (precision + recall) > 0 else 0  # Handling division by zero\n",
    "\n",
    "\n",
    "    return accuracy, precision, recall, f1_score, confusion_matrix\n",
    "\n",
    "\n",
    "# attack_results = detector.detect_attacks(attack_loaders[1])\n",
    "# for score, is_attack in attack_results:\n",
    "#     print(f\"Anomaly Score: {score}, Attack: {'Yes' if is_attack else 'No'}\")\n"
   ]
  },
  {
   "cell_type": "code",
   "execution_count": 4,
   "metadata": {},
   "outputs": [
    {
     "ename": "NameError",
     "evalue": "name 'config' is not defined",
     "output_type": "error",
     "traceback": [
      "\u001b[0;31m---------------------------------------------------------------------------\u001b[0m",
      "\u001b[0;31mNameError\u001b[0m                                 Traceback (most recent call last)",
      "\u001b[1;32m/Users/jamescourson/Documents/CANIDS/code_final/torchdetector.ipynb Cell 20\u001b[0m line \u001b[0;36m2\n\u001b[1;32m      <a href='vscode-notebook-cell:/Users/jamescourson/Documents/CANIDS/code_final/torchdetector.ipynb#X25sZmlsZQ%3D%3D?line=0'>1</a>\u001b[0m new_model_filename \u001b[39m=\u001b[39m \u001b[39m\"\u001b[39m\u001b[39m/Users/jamescourson/Documents/CANIDS/code/data_prep/saved_model/canolo_model_112.pt\u001b[39m\u001b[39m\"\u001b[39m\n\u001b[0;32m----> <a href='vscode-notebook-cell:/Users/jamescourson/Documents/CANIDS/code_final/torchdetector.ipynb#X25sZmlsZQ%3D%3D?line=1'>2</a>\u001b[0m detector \u001b[39m=\u001b[39m CANnoloAttackDetector(new_model_filename, threshold\u001b[39m=\u001b[39m\u001b[39m0.08\u001b[39m, config\u001b[39m=\u001b[39mconfig)\n",
      "\u001b[0;31mNameError\u001b[0m: name 'config' is not defined"
     ]
    }
   ],
   "source": [
    "new_model_filename = \"/Users/jamescourson/Documents/CANIDS/code/data_prep/saved_model/canolo_model_112.pt\"\n",
    "detector = CANnoloAttackDetector(new_model_filename, threshold=0.08, config=config)"
   ]
  },
  {
   "cell_type": "code",
   "execution_count": 17,
   "metadata": {},
   "outputs": [
    {
     "name": "stdout",
     "output_type": "stream",
     "text": [
      "Attack Loader accelerator_attack_drive_1.log\n",
      "Attack Loader accelerator_attack_drive_2.log\n",
      "Attack Loader accelerator_attack_reverse_1.log\n",
      "Attack Loader accelerator_attack_reverse_2.log\n",
      "Attack Loader correlated_signal_attack_1.log\n",
      "Attack Loader correlated_signal_attack_2.log\n",
      "Attack Loader correlated_signal_attack_3.log\n",
      "Attack Loader fuzzing_attack_1.log\n",
      "Attack Loader fuzzing_attack_2.log\n",
      "Attack Loader fuzzing_attack_3.log\n",
      "Attack Loader max_engine_coolant_temp_attack.log\n",
      "Attack Loader max_speedometer_attack_1.log\n",
      "Attack Loader max_speedometer_attack_2.log\n",
      "Attack Loader max_speedometer_attack_3.log\n",
      "Attack Loader reverse_light_off_attack_1.log\n",
      "Attack Loader reverse_light_off_attack_2.log\n",
      "Attack Loader reverse_light_off_attack_3.log\n",
      "Attack Loader reverse_light_on_attack_1.log\n",
      "Attack Loader reverse_light_on_attack_2.log\n",
      "Attack Loader reverse_light_on_attack_3.log\n"
     ]
    }
   ],
   "source": [
    "# print name of each attack loader\n",
    "for i, loader in enumerate(attack_loaders):\n",
    "    print(f\"Attack Loader {attack_loader.can_data[i].filename[0]}\")\n"
   ]
  },
  {
   "cell_type": "code",
   "execution_count": 18,
   "metadata": {},
   "outputs": [
    {
     "name": "stdout",
     "output_type": "stream",
     "text": [
      "       time   aid              data                        filename  \\\n",
      "0  0.000000  1505  893FC00B0A013880  correlated_signal_attack_1.log   \n",
      "1  0.000001   651  0000000000000000  correlated_signal_attack_1.log   \n",
      "2  0.000003   167  0010FA24D12E00A0  correlated_signal_attack_1.log   \n",
      "3  0.000004   208  4A7704600201F000  correlated_signal_attack_1.log   \n",
      "4  0.000997    51  000698000E4207D0  correlated_signal_attack_1.log   \n",
      "\n",
      "   delta_time_last_msg  delta_time_last_same_aid  actual_attack  \n",
      "0         0.000000e+00                       NaN          False  \n",
      "1         1.072884e-06                       NaN          False  \n",
      "2         2.026558e-06                       NaN          False  \n",
      "3         9.536743e-07                       NaN          False  \n",
      "4         9.930134e-04                       NaN          False  \n",
      "Attack Loader 4: correlated_signal_attack_1.log\n",
      "           time   aid              data                        filename  \\\n",
      "0  0.000000e+00  1505  891FA0070A00CC80  correlated_signal_attack_2.log   \n",
      "1  9.536743e-07   651  0000000000000000  correlated_signal_attack_2.log   \n",
      "2  2.026558e-06   167  00512C25A12D70A0  correlated_signal_attack_2.log   \n",
      "3  2.980232e-06    61  0001C30000000000  correlated_signal_attack_2.log   \n",
      "4  4.243016e-03    14  2055960208096FF6  correlated_signal_attack_2.log   \n",
      "\n",
      "   delta_time_last_msg  delta_time_last_same_aid  actual_attack  \n",
      "0         0.000000e+00                       NaN          False  \n",
      "1         9.536743e-07                       NaN          False  \n",
      "2         1.072884e-06                       NaN          False  \n",
      "3         9.536743e-07                       NaN          False  \n",
      "4         4.240036e-03                       NaN          False  \n",
      "Attack Loader 5: correlated_signal_attack_2.log\n",
      "       time   aid              data                        filename  \\\n",
      "0  0.001029  1176  87FFBFFC278130CE  correlated_signal_attack_3.log   \n",
      "1  0.001031   519  040460482B1ED518  correlated_signal_attack_3.log   \n",
      "2  0.001032  1225  01F915820D03F64B  correlated_signal_attack_3.log   \n",
      "3  0.001032   470  028FC28034740590  correlated_signal_attack_3.log   \n",
      "4  0.002042   560  F6000002EC001200  correlated_signal_attack_3.log   \n",
      "\n",
      "   delta_time_last_msg  delta_time_last_same_aid  actual_attack  \n",
      "0         0.000000e+00                       NaN          False  \n",
      "1         2.026558e-06                       NaN          False  \n",
      "2         9.536743e-07                       NaN          False  \n",
      "3         0.000000e+00                       NaN          False  \n",
      "4         1.010060e-03                       NaN          False  \n",
      "Attack Loader 6: correlated_signal_attack_3.log\n",
      "           time   aid              data              filename  \\\n",
      "0  0.000000e+00  1314  DF7FD0007F08001C  fuzzing_attack_1.log   \n",
      "1  9.536743e-07   870  80DDC8020147CE38  fuzzing_attack_1.log   \n",
      "2  9.980202e-04  1408  00000003F0880000  fuzzing_attack_1.log   \n",
      "3  9.989738e-04   208  427504646C018700  fuzzing_attack_1.log   \n",
      "4  9.999275e-04    51  0007A0000E0007D0  fuzzing_attack_1.log   \n",
      "\n",
      "   delta_time_last_msg  delta_time_last_same_aid  actual_attack  \n",
      "0         0.000000e+00                       NaN          False  \n",
      "1         9.536743e-07                       NaN          False  \n",
      "2         9.970665e-04                       NaN          False  \n",
      "3         9.536743e-07                       NaN          False  \n",
      "4         9.536743e-07                       NaN          False  \n",
      "Attack Loader 7: fuzzing_attack_1.log\n",
      "       time   aid              data              filename  \\\n",
      "0  0.000000   339  00000004000C0004  fuzzing_attack_2.log   \n",
      "1  0.001020   661  0000000000000040  fuzzing_attack_2.log   \n",
      "2  0.001021  1634  4EE0000040000000  fuzzing_attack_2.log   \n",
      "3  0.001022   412  08F62000020028C0  fuzzing_attack_2.log   \n",
      "4  0.001023   208  22770460F8000000  fuzzing_attack_2.log   \n",
      "\n",
      "   delta_time_last_msg  delta_time_last_same_aid  actual_attack  \n",
      "0         0.000000e+00                       NaN          False  \n",
      "1         1.019955e-03                       NaN          False  \n",
      "2         1.072884e-06                       NaN          False  \n",
      "3         9.536743e-07                       NaN          False  \n",
      "4         9.536743e-07                       NaN          False  \n",
      "Attack Loader 8: fuzzing_attack_2.log\n",
      "           time  aid              data              filename  \\\n",
      "0  0.000000e+00   51  123F19256DC127D0  fuzzing_attack_3.log   \n",
      "1  9.536743e-07   14  2054160208097380  fuzzing_attack_3.log   \n",
      "2  1.033902e-03  403  00080803E8080000  fuzzing_attack_3.log   \n",
      "3  1.034975e-03  263  0000000000000000  fuzzing_attack_3.log   \n",
      "4  2.054930e-03  526  4E2007A158BFAFFF  fuzzing_attack_3.log   \n",
      "\n",
      "   delta_time_last_msg  delta_time_last_same_aid  actual_attack  \n",
      "0         0.000000e+00                       NaN          False  \n",
      "1         9.536743e-07                       NaN          False  \n",
      "2         1.032948e-03                       NaN          False  \n",
      "3         1.072884e-06                       NaN          False  \n",
      "4         1.019955e-03                       NaN          False  \n",
      "Attack Loader 9: fuzzing_attack_3.log\n",
      "           time   aid              data                            filename  \\\n",
      "0  0.000000e+00   354  00080003EA11F4CE  max_engine_coolant_temp_attack.log   \n",
      "1  9.536743e-07   167  2010FA24D125C0A0  max_engine_coolant_temp_attack.log   \n",
      "2  9.961128e-04   813  00000424CC010000  max_engine_coolant_temp_attack.log   \n",
      "3  2.017021e-03  1398  7FF800003FFC1FC0  max_engine_coolant_temp_attack.log   \n",
      "4  5.083084e-03   403  00080803E6E80000  max_engine_coolant_temp_attack.log   \n",
      "\n",
      "   delta_time_last_msg  delta_time_last_same_aid  actual_attack  \n",
      "0         0.000000e+00                       NaN          False  \n",
      "1         9.536743e-07                       NaN          False  \n",
      "2         9.951591e-04                       NaN          False  \n",
      "3         1.020908e-03                       NaN          False  \n",
      "4         3.066063e-03                       NaN          False  \n",
      "Attack Loader 10: max_engine_coolant_temp_attack.log\n",
      "           time   aid              data                      filename  \\\n",
      "0  0.000000e+00  1505  893FE00B0A000080  max_speedometer_attack_1.log   \n",
      "1  9.536743e-07   651  0000000000000000  max_speedometer_attack_1.log   \n",
      "2  9.989738e-04  1760  0000000000000000  max_speedometer_attack_1.log   \n",
      "3  9.999275e-04   167  0010FA25012B90A0  max_speedometer_attack_1.log   \n",
      "4  1.001120e-03  1694  0440047E1FC01542  max_speedometer_attack_1.log   \n",
      "\n",
      "   delta_time_last_msg  delta_time_last_same_aid  actual_attack  \n",
      "0         0.000000e+00                       NaN          False  \n",
      "1         9.536743e-07                       NaN          False  \n",
      "2         9.980202e-04                       NaN          False  \n",
      "3         9.536743e-07                       NaN          False  \n",
      "4         1.192093e-06                       NaN          False  \n",
      "Attack Loader 11: max_speedometer_attack_1.log\n",
      "       time   aid              data                      filename  \\\n",
      "0  0.000002   186  06A8044410000388  max_speedometer_attack_2.log   \n",
      "1  0.000003   293  9000415F40BDFF60  max_speedometer_attack_2.log   \n",
      "2  0.001351   403  00080803E8080000  max_speedometer_attack_2.log   \n",
      "3  0.002348   526  4E2007A11BBFEFFF  max_speedometer_attack_2.log   \n",
      "4  0.002350  1314  DF7FD00078F0001C  max_speedometer_attack_2.log   \n",
      "\n",
      "   delta_time_last_msg  delta_time_last_same_aid  actual_attack  \n",
      "0         0.000000e+00                       NaN          False  \n",
      "1         9.536743e-07                       NaN          False  \n",
      "2         1.348019e-03                       NaN          False  \n",
      "3         9.970665e-04                       NaN          False  \n",
      "4         1.907349e-06                       NaN          False  \n",
      "Attack Loader 12: max_speedometer_attack_2.log\n",
      "       time   aid              data                      filename  \\\n",
      "0  0.000002   737  0000000000000004  max_speedometer_attack_3.log   \n",
      "1  0.001021   852  200B400000023600  max_speedometer_attack_3.log   \n",
      "2  0.001023  1505  893DA00B0A007C80  max_speedometer_attack_3.log   \n",
      "3  0.001024   354  000801F3EA11F4CE  max_speedometer_attack_3.log   \n",
      "4  0.001025   167  0010FB24E12DF0A0  max_speedometer_attack_3.log   \n",
      "\n",
      "   delta_time_last_msg  delta_time_last_same_aid  actual_attack  \n",
      "0         0.000000e+00                       NaN          False  \n",
      "1         1.019001e-03                       NaN          False  \n",
      "2         1.907349e-06                       NaN          False  \n",
      "3         9.536743e-07                       NaN          False  \n",
      "4         9.536743e-07                       NaN          False  \n",
      "Attack Loader 13: max_speedometer_attack_3.log\n",
      "           time   aid              data                        filename  \\\n",
      "0  0.000000e+00   293  90002DDF20385D60  reverse_light_off_attack_1.log   \n",
      "1  9.536743e-07  1760  0000000000000000  reverse_light_off_attack_1.log   \n",
      "2  1.907349e-06   263  0000000000000000  reverse_light_off_attack_1.log   \n",
      "3  1.027107e-03   186  06A811C410000862  reverse_light_off_attack_1.log   \n",
      "4  1.028061e-03   627  0000000800000000  reverse_light_off_attack_1.log   \n",
      "\n",
      "   delta_time_last_msg  delta_time_last_same_aid  actual_attack  \n",
      "0         0.000000e+00                       NaN          False  \n",
      "1         9.536743e-07                       NaN          False  \n",
      "2         9.536743e-07                       NaN          False  \n",
      "3         1.025200e-03                       NaN          False  \n",
      "4         9.536743e-07                       NaN          False  \n",
      "Attack Loader 14: reverse_light_off_attack_1.log\n",
      "       time   aid              data                        filename  \\\n",
      "0  0.000000   403  00080803E4C80000  reverse_light_off_attack_2.log   \n",
      "1  0.000002   526  4E2003A0003F6FFF  reverse_light_off_attack_2.log   \n",
      "2  0.000003  1314  DF7FD1621848BF1C  reverse_light_off_attack_2.log   \n",
      "3  0.000004   293  90002DDF20F8ED60  reverse_light_off_attack_2.log   \n",
      "4  0.001016   870  7FDDC8020147CE78  reverse_light_off_attack_2.log   \n",
      "\n",
      "   delta_time_last_msg  delta_time_last_same_aid  actual_attack  \n",
      "0         0.000000e+00                       NaN          False  \n",
      "1         1.907349e-06                       NaN          False  \n",
      "2         9.536743e-07                       NaN          False  \n",
      "3         1.192093e-06                       NaN          False  \n",
      "4         1.011848e-03                       NaN          False  \n",
      "Attack Loader 15: reverse_light_off_attack_2.log\n",
      "       time  aid              data                        filename  \\\n",
      "0  0.000000  208  62710460F0000000  reverse_light_off_attack_3.log   \n",
      "1  0.000004   51  000780000F0007D0  reverse_light_off_attack_3.log   \n",
      "2  0.000005  628  00F20CF3107C81DD  reverse_light_off_attack_3.log   \n",
      "3  0.001026  192  0000000000000000  reverse_light_off_attack_3.log   \n",
      "4  0.002031  737  0000000000000004  reverse_light_off_attack_3.log   \n",
      "\n",
      "   delta_time_last_msg  delta_time_last_same_aid  actual_attack  \n",
      "0         0.000000e+00                       NaN          False  \n",
      "1         4.053116e-06                       NaN          False  \n",
      "2         9.536743e-07                       NaN          False  \n",
      "3         1.021147e-03                       NaN          False  \n",
      "4         1.004934e-03                       NaN          False  \n",
      "Attack Loader 16: reverse_light_off_attack_3.log\n",
      "           time   aid              data                       filename  \\\n",
      "0  0.000000e+00  1176  84002000FB800001  reverse_light_on_attack_1.log   \n",
      "1  9.536743e-07   961  7B551FBC6C38292E  reverse_light_on_attack_1.log   \n",
      "2  2.145767e-06   519  04046048291FB518  reverse_light_on_attack_1.log   \n",
      "3  1.311302e-05  1225  01F915820D02F64B  reverse_light_on_attack_1.log   \n",
      "4  1.018047e-03   470  020B808030240580  reverse_light_on_attack_1.log   \n",
      "\n",
      "   delta_time_last_msg  delta_time_last_same_aid  actual_attack  \n",
      "0         0.000000e+00                       NaN          False  \n",
      "1         9.536743e-07                       NaN          False  \n",
      "2         1.192093e-06                       NaN          False  \n",
      "3         1.096725e-05                       NaN          False  \n",
      "4         1.004934e-03                       NaN          False  \n",
      "Attack Loader 17: reverse_light_on_attack_1.log\n",
      "           time   aid              data                       filename  \\\n",
      "0  0.000000e+00   852  1FFF400000040900  reverse_light_on_attack_2.log   \n",
      "1  9.536743e-07  1505  893FE00B0A000080  reverse_light_on_attack_2.log   \n",
      "2  2.145767e-06   354  00080003EA11F4CE  reverse_light_on_attack_2.log   \n",
      "3  1.013041e-03    14  2052D60208097552  reverse_light_on_attack_2.log   \n",
      "4  1.014948e-03   167  0010FA24E12B00A0  reverse_light_on_attack_2.log   \n",
      "\n",
      "   delta_time_last_msg  delta_time_last_same_aid  actual_attack  \n",
      "0         0.000000e+00                       NaN          False  \n",
      "1         9.536743e-07                       NaN          False  \n",
      "2         1.192093e-06                       NaN          False  \n",
      "3         1.010895e-03                       NaN          False  \n",
      "4         1.907349e-06                       NaN          False  \n",
      "Attack Loader 18: reverse_light_on_attack_2.log\n",
      "           time   aid              data                       filename  \\\n",
      "0  0.000000e+00  1314  DF7FD0007BC0001C  reverse_light_on_attack_3.log   \n",
      "1  9.536743e-07   870  7FDDC8020147CE78  reverse_light_on_attack_3.log   \n",
      "2  2.145767e-06  1408  00000003BC080000  reverse_light_on_attack_3.log   \n",
      "3  9.901524e-04  1076  00E700A839A6CE90  reverse_light_on_attack_3.log   \n",
      "4  9.911060e-04  1760  0000000000000000  reverse_light_on_attack_3.log   \n",
      "\n",
      "   delta_time_last_msg  delta_time_last_same_aid  actual_attack  \n",
      "0         0.000000e+00                       NaN          False  \n",
      "1         9.536743e-07                       NaN          False  \n",
      "2         1.192093e-06                       NaN          False  \n",
      "3         9.880066e-04                       NaN          False  \n",
      "4         9.536743e-07                       NaN          False  \n",
      "Attack Loader 19: reverse_light_on_attack_3.log\n"
     ]
    }
   ],
   "source": [
    "for i, loader in enumerate(attack_loaders):\n",
    "    try:\n",
    "        loader.can_data[0].actual_attack.sum()\n",
    "        print(loader.can_data[0].head())\n",
    "        print(f\"Attack Loader {i}: {attack_loader.can_data[i].filename[0]}\")\n",
    "    except:\n",
    "        pass"
   ]
  },
  {
   "cell_type": "code",
   "execution_count": 19,
   "metadata": {},
   "outputs": [],
   "source": [
    "# while True:\n",
    "#     out = attack_loaders[5].__getitem__(0)\n",
    "#     if out[2].sum() > 0:\n",
    "#         input()\n",
    "\n",
    "# out = attack_loaders[5].__getitem__(0)\n",
    "# print(out)\n",
    "\n",
    "# attack_loaders[5].reset()"
   ]
  },
  {
   "cell_type": "code",
   "execution_count": 203,
   "metadata": {},
   "outputs": [
    {
     "name": "stderr",
     "output_type": "stream",
     "text": [
      "100%|█████████▉| 3340/3341 [00:35<00:00, 93.07it/s]\n"
     ]
    },
    {
     "name": "stdout",
     "output_type": "stream",
     "text": [
      "Accuracy: 0.9876122754491018\n"
     ]
    }
   ],
   "source": [
    "# ambient_loader_test = CANDataLoader([ambient_loader.can_data[3]], config_copy, batch_size)\n",
    "\n",
    "\n",
    "# detector = CANnoloAttackDetector(\"/Users/jamescourson/Documents/CANIDS/code/data_prep/saved_model/canolo_model_112.pt\", threshold=.16)\n",
    "# results = detector.detect_attacks(ambient_loader_test)\n",
    "# accuracy = calculate_accuracy(results)\n",
    "# print(f\"Accuracy: {accuracy}\")"
   ]
  },
  {
   "cell_type": "code",
   "execution_count": 62,
   "metadata": {},
   "outputs": [],
   "source": [
    "ambient_loader_test = CANDataLoader([ambient_loader.can_data[4][:80000]], config_copy, batch_size)\n"
   ]
  },
  {
   "cell_type": "code",
   "execution_count": 63,
   "metadata": {},
   "outputs": [
    {
     "name": "stderr",
     "output_type": "stream",
     "text": [
      "100%|█████████▉| 2497/2500 [00:30<00:00, 81.49it/s] "
     ]
    },
    {
     "name": "stdout",
     "output_type": "stream",
     "text": [
      "6.286359654041014e-05\n"
     ]
    },
    {
     "name": "stderr",
     "output_type": "stream",
     "text": [
      "\n"
     ]
    }
   ],
   "source": [
    "\n",
    "detector = CANnoloAttackDetector(new_model_filename, threshold=.16, config=config)\n",
    "results = detector.determine_threshold(ambient_loader_test)\n",
    "print(results)"
   ]
  },
  {
   "cell_type": "code",
   "execution_count": null,
   "metadata": {},
   "outputs": [],
   "source": []
  },
  {
   "cell_type": "code",
   "execution_count": 235,
   "metadata": {},
   "outputs": [
    {
     "data": {
      "text/plain": [
       "3.228081368433776e-06"
      ]
     },
     "execution_count": 235,
     "metadata": {},
     "output_type": "execute_result"
    }
   ],
   "source": [
    ".0000032280813684337766"
   ]
  },
  {
   "cell_type": "code",
   "execution_count": 44,
   "metadata": {},
   "outputs": [
    {
     "name": "stderr",
     "output_type": "stream",
     "text": [
      "100%|██████████| 2043/2043 [00:18<00:00, 108.06it/s]"
     ]
    },
    {
     "name": "stdout",
     "output_type": "stream",
     "text": [
      "Threshold: 1.21549102921e-05, Accuracy: 0.8862579539892316, Precision: 0.2234753550543024, Recall: 1.0, F1 Score: 0.3653123933082963, Confusion Matrix: [[2140, 7436], [0, 55800]]\n"
     ]
    },
    {
     "name": "stderr",
     "output_type": "stream",
     "text": [
      "\n"
     ]
    }
   ],
   "source": [
    "# for threshold in [0.02, 0.05, 0.08, 0.1, 0.12, 0.14, 0.16]:\n",
    "for threshold in [1.21549102921e-05,]:\n",
    "    detector = CANnoloAttackDetector(new_model_filename, threshold=threshold, config=config)\n",
    "    results = detector.detect_attacks(attack_loaders[5])\n",
    "    accuracy, precision, recall, f1_score, confusion_matrix = calculate_metrics(results)\n",
    "    print(f\"Threshold: {threshold}, Accuracy: {accuracy}, Precision: {precision}, Recall: {recall}, F1 Score: {f1_score}, Confusion Matrix: {confusion_matrix}\")"
   ]
  },
  {
   "cell_type": "code",
   "execution_count": null,
   "metadata": {},
   "outputs": [],
   "source": [
    "# small config\n",
    "\n",
    "# 1.21549102921e-05, best so far\n",
    "\n",
    "# 100%|██████████| 2043/2043 [00:18<00:00, 108.09it/s]\n",
    "# Threshold: 0.0716797549102921, Accuracy: 0.9658284385707293, Precision: 0.0, Recall: 0.0, F1 Score: 0, Confusion Matrix: [[0, 94], [2140, 63142]]\n",
    "# 100%|██████████| 2043/2043 [00:18<00:00, 107.65it/s]\n",
    "# Threshold: 0.00716797549102921, Accuracy: 0.9651095203132648, Precision: 0.0, Recall: 0.0, F1 Score: 0, Confusion Matrix: [[0, 141], [2140, 63095]]\n",
    "# 100%|██████████| 2043/2043 [00:19<00:00, 104.89it/s]\n",
    "# Threshold: 0.000716797549102921, Accuracy: 0.9601076847772883, Precision: 0.0, Recall: 0.0, F1 Score: 0, Confusion Matrix: [[0, 468], [2140, 62768]]\n",
    "# 100%|██████████| 2043/2043 [00:19<00:00, 104.07it/s]\n",
    "# Threshold: 7.16797549102921e-05, Accuracy: 0.9448268477728831, Precision: 0.0006807351940095302, Recall: 0.00046728971962616824, F1 Score: 0.0005541701302299807, Confusion Matrix: [[1, 1468], [2139, 61768]]\n",
    "# 100%|██████████| 2043/2043 [00:18<00:00, 108.79it/s]\n",
    "# Threshold: 7.16797549102921e-06, Accuracy: 0.8650881057268722, Precision: 0.19525547445255476, Recall: 1.0, F1 Score: 0.32671755725190843, Confusion Matrix: [[2140, 8820], [0, 54416]]"
   ]
  },
  {
   "cell_type": "code",
   "execution_count": null,
   "metadata": {},
   "outputs": [],
   "source": [
    "# new config\n",
    "\n",
    "# 99%|█████████▉| 2019/2043 [00:19<00:00, 103.71it/s]\n",
    "# Threshold: 0.00133, Accuracy: 0.9130448241703814, Precision: 0.27180899908172634, Recall: 0.9686769518466574, F1 Score: 0.42450317557877487, Confusion Matrix: [[2072, 5551], [67, 56918]]"
   ]
  },
  {
   "cell_type": "code",
   "execution_count": null,
   "metadata": {},
   "outputs": [],
   "source": [
    "\n",
    "\n",
    "# for 5 \n",
    "\n",
    "# 100%|█████████▉| 2042/2043 [00:36<00:00, 55.75it/s]\n",
    "# Threshold: 9.8e-06, Accuracy: 0.943560235063663, Precision: 0.3669929589558647, Recall: 0.9990649836372136, F1 Score: 0.536799799045466, Confusion Matrix: [[2137, 3686], [2, 59519]]\n",
    "# 100%|█████████▉| 2042/2043 [00:38<00:00, 53.15it/s]\n",
    "# Threshold: 1e-05, Accuracy: 0.9434837169441724, Precision: 0.3664030261348005, Recall: 0.9962599345488546, F1 Score: 0.5357636706473916, Confusion Matrix: [[2131, 3685], [8, 59520]]\n",
    "# 100%|█████████▉| 2042/2043 [00:39<00:00, 52.00it/s]\n",
    "# Threshold: 1.2e-05, Accuracy: 0.9522220861900098, Precision: 0.09877551020408164, Recall: 0.0565684899485741, F1 Score: 0.07193816884661118, Confusion Matrix: [[121, 1104], [2018, 62101]]\n",
    "\n",
    "# 100%|█████████▉| 2042/2043 [00:19<00:00, 105.41it/s]\n",
    "# Threshold: 9.3e-06, Accuracy: 0.9435449314397649, Precision: 0.3670212765957447, Recall: 1.0, F1 Score: 0.5369649805447471, Confusion Matrix: [[2139, 3689], [0, 59516]]\n",
    "# 100%|█████████▉| 2042/2043 [00:18<00:00, 108.38it/s]\n",
    "# Threshold: 9.4e-06, Accuracy: 0.9435449314397649, Precision: 0.3670212765957447, Recall: 1.0, F1 Score: 0.5369649805447471, Confusion Matrix: [[2139, 3689], [0, 59516]]\n",
    "# 100%|█████████▉| 2042/2043 [00:18<00:00, 111.21it/s]\n",
    "# Threshold: 9.5e-06, Accuracy: 0.9435908423114594, Precision: 0.36721030042918457, Recall: 1.0, F1 Score: 0.5371672526368658, Confusion Matrix: [[2139, 3686], [0, 59519]]\n",
    "# 100%|█████████▉| 2042/2043 [00:19<00:00, 102.42it/s]\n",
    "# Threshold: 9.7e-06, Accuracy: 0.9435908423114594, Precision: 0.36721030042918457, Recall: 1.0, F1 Score: 0.5371672526368658, Confusion Matrix: [[2139, 3686], [0, 59519]]\n",
    "\n",
    "# 100%|█████████▉| 2042/2043 [00:18<00:00, 108.20it/s]\n",
    "# Threshold: 8.5e-06, Accuracy: 0.943223555337904, Precision: 0.3657035390665071, Recall: 1.0, F1 Score: 0.5355533299949925, Confusion Matrix: [[2139, 3710], [0, 59495]]\n",
    "# 100%|█████████▉| 2042/2043 [00:18<00:00, 109.22it/s]\n",
    "# Threshold: 8.8e-06, Accuracy: 0.9434071988246817, Precision: 0.3664553709097139, Recall: 1.0, F1 Score: 0.5363590772316952, Confusion Matrix: [[2139, 3698], [0, 59507]]\n",
    "# 100%|█████████▉| 2042/2043 [00:18<00:00, 108.90it/s]\n",
    "# Threshold: 9.1e-06, Accuracy: 0.9435143241919687, Precision: 0.3668953687821612, Recall: 1.0, F1 Score: 0.5368302170912285, Confusion Matrix: [[2139, 3691], [0, 59514]]\n",
    "# 100%|█████████▉| 2042/2043 [00:18<00:00, 109.57it/s]\n",
    "# Threshold: 9.3e-06, Accuracy: 0.9435449314397649, Precision: 0.3670212765957447, Recall: 1.0, F1 Score: 0.5369649805447471, Confusion Matrix: [[2139, 3689], [0, 59516]]\n",
    "# 100%|█████████▉| 2042/2043 [00:18<00:00, 110.75it/s]\n",
    "# Threshold: 9.8e-06, Accuracy: 0.943560235063663, Precision: 0.3669929589558647, Recall: 0.9990649836372136, F1 Score: 0.536799799045466, Confusion Matrix: [[2137, 3686], [2, 59519]]\n",
    "\n",
    "# 100%|█████████▉| 2042/2043 [00:18<00:00, 109.65it/s]\n",
    "# Threshold: 2e-06, Accuracy: 0.7745470127326151, Precision: 0.12678560844051923, Recall: 1.0, F1 Score: 0.22503945291951602, Confusion Matrix: [[2139, 14732], [0, 48473]]\n",
    "# 100%|█████████▉| 2042/2043 [00:18<00:00, 111.40it/s]\n",
    "# Threshold: 4e-06, Accuracy: 0.9219515181194907, Precision: 0.2954828014919188, Recall: 1.0, F1 Score: 0.4561740243122201, Confusion Matrix: [[2139, 5100], [0, 58105]]\n",
    "# 100%|█████████▉| 2042/2043 [00:18<00:00, 109.56it/s]\n",
    "# Threshold: 6e-06, Accuracy: 0.9294962047012733, Precision: 0.31707678624369995, Recall: 1.0, F1 Score: 0.4814856499718626, Confusion Matrix: [[2139, 4607], [0, 58598]]\n",
    "# 100%|█████████▉| 2042/2043 [00:18<00:00, 109.21it/s]\n",
    "# Threshold: 8e-06, Accuracy: 0.9425042850146915, Precision: 0.36278833107191316, Recall: 1.0, F1 Score: 0.5324206596141879, Confusion Matrix: [[2139, 3757], [0, 59448]]\n",
    "# 100%|█████████▉| 2042/2043 [00:18<00:00, 110.16it/s]\n",
    "# Threshold: 1e-06, Accuracy: 0.7203568805093046, Precision: 0.10479129923574368, Recall: 1.0, F1 Score: 0.18970333909804443, Confusion Matrix: [[2139, 18273], [0, 44932]]\n",
    "# 100%|█████████▉| 2042/2043 [00:18<00:00, 110.10it/s]\n",
    "# Threshold: 1.2e-06, Accuracy: 0.7422257590597453, Precision: 0.11267976610651635, Recall: 1.0, F1 Score: 0.2025376384812044, Confusion Matrix: [[2139, 16844], [0, 46361]]\n",
    "# 100%|█████████▉| 2042/2043 [00:18<00:00, 110.07it/s]\n",
    "# Threshold: 1.4e-06, Accuracy: 0.7495255876591577, Precision: 0.11558413487517562, Recall: 1.0, F1 Score: 0.20721724388471785, Confusion Matrix: [[2139, 16367], [0, 46838]]\n",
    "# 100%|█████████▉| 2042/2043 [00:18<00:00, 110.22it/s]\n",
    "# Threshold: 1.6e-06, Accuracy: 0.7543921400587659, Precision: 0.11760501429513966, Recall: 1.0, F1 Score: 0.21045899542480445, Confusion Matrix: [[2139, 16049], [0, 47156]]\n",
    "# 100%|█████████▉| 2042/2043 [00:18<00:00, 109.12it/s]\n",
    "# Threshold: 1.8e-06, Accuracy: 0.759794319294809, Precision: 0.119932716568545, Recall: 1.0, F1 Score: 0.21417843196155, Confusion Matrix: [[2139, 15696], [0, 47509]]\n",
    "\n",
    "# 100%|█████████▉| 2042/2043 [00:18<00:00, 110.26it/s]\n",
    "# Threshold: 0.001, Accuracy: 0.9611440989226249\n",
    "# 100%|█████████▉| 2042/2043 [00:18<00:00, 109.64it/s]\n",
    "# Threshold: 0.008, Accuracy: 0.9631947845249755\n",
    "# 100%|█████████▉| 2042/2043 [00:18<00:00, 109.20it/s]\n",
    "# Threshold: 0.01, Accuracy: 0.9631947845249755\n",
    "# 100%|█████████▉| 2042/2043 [00:19<00:00, 106.59it/s]\n",
    "# Threshold: 0.12, Accuracy: 0.9672655484818805\n",
    "# 100%|█████████▉| 2042/2043 [00:18<00:00, 110.60it/s]\n",
    "# Threshold: 0.14, Accuracy: 0.9672655484818805\n",
    "# 100%|█████████▉| 2042/2043 [00:18<00:00, 109.82it/s]\n",
    "# Threshold: 0.16, Accuracy: 0.9672655484818805\n",
    "# 100%|█████████▉| 2042/2043 [00:18<00:00, 111.24it/s]\n",
    "# Threshold: 0.5, Accuracy: 0.9672655484818805\n",
    "# 100%|█████████▉| 2042/2043 [00:18<00:00, 110.56it/s]\n",
    "# Threshold: 1, Accuracy: 0.9672655484818805\n",
    "# 100%|█████████▉| 2042/2043 [00:18<00:00, 109.57it/s]\n",
    "# Threshold: 2, Accuracy: 0.9672655484818805\n",
    "# 100%|█████████▉| 2042/2043 [00:18<00:00, 110.48it/s]\n",
    "# Threshold: 6, Accuracy: 0.9672655484818805\n",
    "# 100%|█████████▉| 2042/2043 [00:18<00:00, 110.01it/s]\n",
    "# Threshold: 10, Accuracy: 0.9672655484818805\n",
    "# 100%|█████████▉| 2042/2043 [00:18<00:00, 110.44it/s]\n",
    "# Threshold: 100, Accuracy: 0.9672655484818805"
   ]
  },
  {
   "cell_type": "code",
   "execution_count": 22,
   "metadata": {},
   "outputs": [
    {
     "data": {
      "text/plain": [
       "[]"
      ]
     },
     "execution_count": 22,
     "metadata": {},
     "output_type": "execute_result"
    }
   ],
   "source": [
    "results"
   ]
  },
  {
   "cell_type": "code",
   "execution_count": 19,
   "metadata": {},
   "outputs": [
    {
     "name": "stderr",
     "output_type": "stream",
     "text": [
      "  0%|          | 0/2043 [00:13<?, ?it/s]"
     ]
    },
    {
     "name": "stdout",
     "output_type": "stream",
     "text": [
      "0\n"
     ]
    },
    {
     "name": "stderr",
     "output_type": "stream",
     "text": [
      "\n"
     ]
    }
   ],
   "source": [
    "print(detector.detect_attacks(attack_loaders[1]))"
   ]
  }
 ],
 "metadata": {
  "kernelspec": {
   "display_name": "torch",
   "language": "python",
   "name": "torch"
  },
  "language_info": {
   "codemirror_mode": {
    "name": "ipython",
    "version": 3
   },
   "file_extension": ".py",
   "mimetype": "text/x-python",
   "name": "python",
   "nbconvert_exporter": "python",
   "pygments_lexer": "ipython3",
   "version": "3.11.4"
  }
 },
 "nbformat": 4,
 "nbformat_minor": 2
}
