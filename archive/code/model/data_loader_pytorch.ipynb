{
 "cells": [
  {
   "cell_type": "code",
   "execution_count": 32,
   "metadata": {},
   "outputs": [],
   "source": [
    "from json import load\n",
    "from dotenv import load_dotenv\n",
    "import os\n",
    "import pandas as pd\n",
    "\n",
    "load_dotenv()\n",
    "\n",
    "data_path = os.getenv('DATA_PATH')\n",
    "ambient_dir = f'{data_path}/ambient' \n",
    "attack_dir = f'{data_path}/attacks'\n",
    "\n",
    "df_train = pd.read_parquet(f'{data_path}/ambient/ambient_train_chunks.parquet')\n",
    "df_test = pd.read_parquet(f'{data_path}/attacks/attacks_test_chunks.parquet')"
   ]
  },
  {
   "cell_type": "code",
   "execution_count": 10,
   "metadata": {},
   "outputs": [],
   "source": [
    "# Shuffle the DataFrame\n",
    "df_train = df_train.sample(frac=1).reset_index(drop=True)\n",
    "\n",
    "# Split into features and labels\n",
    "X = df_train.drop(columns=['label'])\n",
    "y = df_train['label']\n",
    "\n",
    "# Convert to NumPy arrays\n",
    "X = X.values\n",
    "y = y.values\n",
    "\n",
    "\n",
    "N = 11"
   ]
  },
  {
   "cell_type": "code",
   "execution_count": 33,
   "metadata": {},
   "outputs": [],
   "source": [
    "# Now for test\n",
    "df_test = df_test.sample(frac=1).reset_index(drop=True)\n",
    "\n",
    "# Split into features and labels\n",
    "X_test = df_test.drop(columns=['label'])\n",
    "y_test = df_test['label']\n",
    "\n",
    "# Convert to NumPy arrays\n",
    "X_test = X_test.values\n",
    "y_test = y_test.values"
   ]
  },
  {
   "cell_type": "code",
   "execution_count": 46,
   "metadata": {},
   "outputs": [],
   "source": [
    "import torch\n",
    "from torch.utils.data import DataLoader, Dataset\n",
    "import torch.nn as nn\n",
    "import torch.optim as optim\n",
    "\n",
    "if torch.backends.mps.is_available():\n",
    "    mps_device = torch.device(\"mps\")\n",
    "\n",
    "# Define custom dataset\n",
    "class TimeDifferenceDataset(Dataset):\n",
    "    def __init__(self, X, y):\n",
    "        self.X = torch.tensor(X, dtype=torch.float32)\n",
    "        self.y = torch.tensor(y, dtype=torch.float32)\n",
    "    \n",
    "    def __len__(self):\n",
    "        return len(self.X)\n",
    "    \n",
    "    def __getitem__(self, idx):\n",
    "        return self.X[idx], self.y[idx]\n",
    "\n",
    "# Create dataset and dataloader\n",
    "dataset = TimeDifferenceDataset(X, y)\n",
    "dataloader = DataLoader(dataset, batch_size=128, shuffle=True)\n",
    "\n",
    "# Create test dataset and dataloader\n",
    "test_dataset = TimeDifferenceDataset(X_test, y_test)\n",
    "test_dataloader = DataLoader(test_dataset, batch_size=128, shuffle=True)\n",
    "\n",
    "# Define model\n",
    "class TimeDifferenceModel(nn.Module):\n",
    "    def __init__(self, input_dim):\n",
    "        super(TimeDifferenceModel, self).__init__()\n",
    "        self.fc1 = nn.Linear(input_dim, 64)\n",
    "        self.fc2 = nn.Linear(64, 64)\n",
    "        self.fc3 = nn.Linear(64, 64)\n",
    "        self.fc4 = nn.Linear(64, 1)\n",
    "        self.relu = nn.ReLU()\n",
    "    \n",
    "    def forward(self, x):\n",
    "        x = self.relu(self.fc1(x))\n",
    "        x = self.relu(self.fc2(x))\n",
    "        x = self.relu(self.fc3(x))\n",
    "        return self.fc4(x)\n",
    "\n",
    "model = TimeDifferenceModel(N)\n",
    "\n",
    "# Loss and optimizer\n",
    "criterion = nn.MSELoss()\n",
    "optimizer = optim.Adam(model.parameters(), lr=0.001)\n",
    "\n"
   ]
  },
  {
   "cell_type": "code",
   "execution_count": 47,
   "metadata": {},
   "outputs": [
    {
     "name": "stderr",
     "output_type": "stream",
     "text": [
      "100%|██████████| 176625/176625 [01:48<00:00, 1628.92it/s]\n"
     ]
    },
    {
     "name": "stdout",
     "output_type": "stream",
     "text": [
      "Epoch [1/10], Loss: 0.0034\n"
     ]
    },
    {
     "name": "stderr",
     "output_type": "stream",
     "text": [
      "100%|██████████| 176625/176625 [01:47<00:00, 1638.70it/s]\n"
     ]
    },
    {
     "name": "stdout",
     "output_type": "stream",
     "text": [
      "Epoch [2/10], Loss: 0.0008\n"
     ]
    },
    {
     "name": "stderr",
     "output_type": "stream",
     "text": [
      "100%|██████████| 176625/176625 [01:51<00:00, 1589.70it/s]\n"
     ]
    },
    {
     "name": "stdout",
     "output_type": "stream",
     "text": [
      "Epoch [3/10], Loss: 0.0013\n"
     ]
    },
    {
     "name": "stderr",
     "output_type": "stream",
     "text": [
      "100%|██████████| 176625/176625 [01:50<00:00, 1601.04it/s]\n"
     ]
    },
    {
     "name": "stdout",
     "output_type": "stream",
     "text": [
      "Epoch [4/10], Loss: 0.0026\n"
     ]
    },
    {
     "name": "stderr",
     "output_type": "stream",
     "text": [
      "100%|██████████| 176625/176625 [01:50<00:00, 1603.30it/s]\n"
     ]
    },
    {
     "name": "stdout",
     "output_type": "stream",
     "text": [
      "Epoch [5/10], Loss: 0.0012\n"
     ]
    },
    {
     "name": "stderr",
     "output_type": "stream",
     "text": [
      "100%|██████████| 176625/176625 [01:47<00:00, 1644.99it/s]\n"
     ]
    },
    {
     "name": "stdout",
     "output_type": "stream",
     "text": [
      "Epoch [6/10], Loss: 0.0007\n"
     ]
    },
    {
     "name": "stderr",
     "output_type": "stream",
     "text": [
      "100%|██████████| 176625/176625 [01:47<00:00, 1641.26it/s]\n"
     ]
    },
    {
     "name": "stdout",
     "output_type": "stream",
     "text": [
      "Epoch [7/10], Loss: 0.0052\n"
     ]
    },
    {
     "name": "stderr",
     "output_type": "stream",
     "text": [
      "100%|██████████| 176625/176625 [17:11<00:00, 171.30it/s] \n"
     ]
    },
    {
     "name": "stdout",
     "output_type": "stream",
     "text": [
      "Epoch [8/10], Loss: 0.0011\n"
     ]
    },
    {
     "name": "stderr",
     "output_type": "stream",
     "text": [
      "100%|██████████| 176625/176625 [01:48<00:00, 1634.82it/s]\n"
     ]
    },
    {
     "name": "stdout",
     "output_type": "stream",
     "text": [
      "Epoch [9/10], Loss: 0.0012\n"
     ]
    },
    {
     "name": "stderr",
     "output_type": "stream",
     "text": [
      "100%|██████████| 176625/176625 [01:49<00:00, 1616.04it/s]"
     ]
    },
    {
     "name": "stdout",
     "output_type": "stream",
     "text": [
      "Epoch [10/10], Loss: 0.0012\n"
     ]
    },
    {
     "name": "stderr",
     "output_type": "stream",
     "text": [
      "\n"
     ]
    }
   ],
   "source": [
    "from tqdm import tqdm\n",
    "num_epochs = 10\n",
    "for epoch in range(num_epochs):\n",
    "    for batch_X, batch_y in tqdm(dataloader):\n",
    "        # Forward pass\n",
    "        outputs = model(batch_X) \n",
    "        loss = criterion(outputs.squeeze(), batch_y)\n",
    "        \n",
    "        # Backward pass and optimization\n",
    "        optimizer.zero_grad()\n",
    "        loss.backward()\n",
    "        optimizer.step()\n",
    "    \n",
    "    print(f\"Epoch [{epoch+1}/{num_epochs}], Loss: {loss.item():.4f}\")\n"
   ]
  },
  {
   "cell_type": "code",
   "execution_count": 35,
   "metadata": {},
   "outputs": [],
   "source": [
    "torch.save(model, 'model.pth')"
   ]
  },
  {
   "cell_type": "code",
   "execution_count": 36,
   "metadata": {},
   "outputs": [
    {
     "name": "stderr",
     "output_type": "stream",
     "text": [
      "100%|██████████| 176625/176625 [01:03<00:00, 2779.31it/s]\n"
     ]
    }
   ],
   "source": [
    "for batch_X, batch_y in tqdm(dataloader):\n",
    "    predictions = model(batch_X)"
   ]
  },
  {
   "cell_type": "code",
   "execution_count": 37,
   "metadata": {},
   "outputs": [
    {
     "data": {
      "text/plain": [
       "tensor([[0.0270],\n",
       "        [0.0270],\n",
       "        [0.0270],\n",
       "        [0.0270],\n",
       "        [0.0270],\n",
       "        [0.0270],\n",
       "        [0.0270],\n",
       "        [0.0270],\n",
       "        [0.0270],\n",
       "        [0.0270],\n",
       "        [0.0270],\n",
       "        [0.0270],\n",
       "        [0.0270],\n",
       "        [0.0270],\n",
       "        [0.0270],\n",
       "        [0.0270],\n",
       "        [0.2636],\n",
       "        [0.1219],\n",
       "        [0.0270],\n",
       "        [0.0270],\n",
       "        [0.0270],\n",
       "        [0.0270],\n",
       "        [0.0270],\n",
       "        [0.0270],\n",
       "        [0.0270],\n",
       "        [0.0270],\n",
       "        [0.0270],\n",
       "        [0.0270],\n",
       "        [0.0270],\n",
       "        [0.0270],\n",
       "        [0.0270],\n",
       "        [0.0270],\n",
       "        [0.0270],\n",
       "        [0.0270],\n",
       "        [0.0270],\n",
       "        [0.0270],\n",
       "        [0.0270],\n",
       "        [0.0270],\n",
       "        [0.0270],\n",
       "        [0.0270],\n",
       "        [0.0270],\n",
       "        [0.0270],\n",
       "        [0.0270],\n",
       "        [0.0270],\n",
       "        [0.0270],\n",
       "        [0.0270],\n",
       "        [0.0270],\n",
       "        [0.0270],\n",
       "        [0.0270],\n",
       "        [0.0270],\n",
       "        [0.0270],\n",
       "        [0.4655],\n",
       "        [0.0270],\n",
       "        [0.0270],\n",
       "        [0.0270],\n",
       "        [0.0270],\n",
       "        [0.0270],\n",
       "        [0.0270],\n",
       "        [0.0270],\n",
       "        [0.0270],\n",
       "        [0.0270],\n",
       "        [0.0270],\n",
       "        [0.0270],\n",
       "        [0.0270],\n",
       "        [0.0270],\n",
       "        [0.0270],\n",
       "        [0.0270],\n",
       "        [0.0270],\n",
       "        [0.1217],\n",
       "        [0.0270],\n",
       "        [0.0270],\n",
       "        [0.0270],\n",
       "        [0.0270],\n",
       "        [0.0270],\n",
       "        [0.0270],\n",
       "        [0.0270],\n",
       "        [0.0270],\n",
       "        [0.0270],\n",
       "        [0.0270],\n",
       "        [0.0270],\n",
       "        [0.0270],\n",
       "        [0.0270],\n",
       "        [0.0270],\n",
       "        [0.0270],\n",
       "        [0.0270],\n",
       "        [0.0270],\n",
       "        [0.0270],\n",
       "        [0.0270],\n",
       "        [0.0270]], grad_fn=<AddmmBackward0>)"
      ]
     },
     "execution_count": 37,
     "metadata": {},
     "output_type": "execute_result"
    }
   ],
   "source": [
    "predictions"
   ]
  }
 ],
 "metadata": {
  "kernelspec": {
   "display_name": "tfEnv",
   "language": "python",
   "name": "python3"
  },
  "language_info": {
   "codemirror_mode": {
    "name": "ipython",
    "version": 3
   },
   "file_extension": ".py",
   "mimetype": "text/x-python",
   "name": "python",
   "nbconvert_exporter": "python",
   "pygments_lexer": "ipython3",
   "version": "3.11.4"
  }
 },
 "nbformat": 4,
 "nbformat_minor": 2
}
