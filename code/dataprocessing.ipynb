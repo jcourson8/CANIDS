{
 "cells": [
  {
   "cell_type": "code",
   "execution_count": null,
   "metadata": {},
   "outputs": [],
   "source": [
    "from json import load\n",
    "from dotenv import load_dotenv\n",
    "\n",
    "data_path = load_dotenv(\"DATA_PATH\") \n",
    "ambient_dir = f'{data_path}/ambient' \n",
    "attack_dir = f'{data_path}/attacks'\n",
    "\n",
    "ambient_metadata_file = os.path.join(ambient_dir, 'capture_metadata.json')\n",
    "attack_metadata_file = os.path.join(attack_dir, 'capture_metadata.json')\n",
    "\n",
    "with open(ambient_metadata_file) as f:\n",
    "    ambient_metadata = load(f)\n",
    "\n",
    "with open(attack_metadata_file) as f:\n",
    "    attack_metadata = load(f)"
   ]
  }
 ],
 "metadata": {
  "language_info": {
   "name": "python"
  },
  "orig_nbformat": 4
 },
 "nbformat": 4,
 "nbformat_minor": 2
}
