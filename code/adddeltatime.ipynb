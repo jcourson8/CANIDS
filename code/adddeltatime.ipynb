{
 "cells": [
  {
   "cell_type": "code",
   "execution_count": 1,
   "metadata": {},
   "outputs": [
    {
     "ename": "FileNotFoundError",
     "evalue": "[Errno 2] No such file or directory: 'None/ambient/capture_metadata.json'",
     "output_type": "error",
     "traceback": [
      "\u001b[0;31m---------------------------------------------------------------------------\u001b[0m",
      "\u001b[0;31mFileNotFoundError\u001b[0m                         Traceback (most recent call last)",
      "\u001b[1;32m/Users/jamescourson/Documents/CANIDS/code/adddeltatime.ipynb Cell 1\u001b[0m line \u001b[0;36m1\n\u001b[1;32m     <a href='vscode-notebook-cell:/Users/jamescourson/Documents/CANIDS/code/adddeltatime.ipynb#W0sZmlsZQ%3D%3D?line=11'>12</a>\u001b[0m ambient_metadata_file \u001b[39m=\u001b[39m os\u001b[39m.\u001b[39mpath\u001b[39m.\u001b[39mjoin(ambient_dir, \u001b[39m'\u001b[39m\u001b[39mcapture_metadata.json\u001b[39m\u001b[39m'\u001b[39m)\n\u001b[1;32m     <a href='vscode-notebook-cell:/Users/jamescourson/Documents/CANIDS/code/adddeltatime.ipynb#W0sZmlsZQ%3D%3D?line=12'>13</a>\u001b[0m attack_metadata_file \u001b[39m=\u001b[39m os\u001b[39m.\u001b[39mpath\u001b[39m.\u001b[39mjoin(attack_dir, \u001b[39m'\u001b[39m\u001b[39mcapture_metadata.json\u001b[39m\u001b[39m'\u001b[39m)\n\u001b[0;32m---> <a href='vscode-notebook-cell:/Users/jamescourson/Documents/CANIDS/code/adddeltatime.ipynb#W0sZmlsZQ%3D%3D?line=14'>15</a>\u001b[0m \u001b[39mwith\u001b[39;00m \u001b[39mopen\u001b[39;49m(ambient_metadata_file) \u001b[39mas\u001b[39;00m f:\n\u001b[1;32m     <a href='vscode-notebook-cell:/Users/jamescourson/Documents/CANIDS/code/adddeltatime.ipynb#W0sZmlsZQ%3D%3D?line=15'>16</a>\u001b[0m     ambient_metadata \u001b[39m=\u001b[39m load(f)\n\u001b[1;32m     <a href='vscode-notebook-cell:/Users/jamescourson/Documents/CANIDS/code/adddeltatime.ipynb#W0sZmlsZQ%3D%3D?line=17'>18</a>\u001b[0m \u001b[39mwith\u001b[39;00m \u001b[39mopen\u001b[39m(attack_metadata_file) \u001b[39mas\u001b[39;00m f:\n",
      "File \u001b[0;32m/opt/homebrew/lib/python3.11/site-packages/IPython/core/interactiveshell.py:284\u001b[0m, in \u001b[0;36m_modified_open\u001b[0;34m(file, *args, **kwargs)\u001b[0m\n\u001b[1;32m    277\u001b[0m \u001b[39mif\u001b[39;00m file \u001b[39min\u001b[39;00m {\u001b[39m0\u001b[39m, \u001b[39m1\u001b[39m, \u001b[39m2\u001b[39m}:\n\u001b[1;32m    278\u001b[0m     \u001b[39mraise\u001b[39;00m \u001b[39mValueError\u001b[39;00m(\n\u001b[1;32m    279\u001b[0m         \u001b[39mf\u001b[39m\u001b[39m\"\u001b[39m\u001b[39mIPython won\u001b[39m\u001b[39m'\u001b[39m\u001b[39mt let you open fd=\u001b[39m\u001b[39m{\u001b[39;00mfile\u001b[39m}\u001b[39;00m\u001b[39m by default \u001b[39m\u001b[39m\"\u001b[39m\n\u001b[1;32m    280\u001b[0m         \u001b[39m\"\u001b[39m\u001b[39mas it is likely to crash IPython. If you know what you are doing, \u001b[39m\u001b[39m\"\u001b[39m\n\u001b[1;32m    281\u001b[0m         \u001b[39m\"\u001b[39m\u001b[39myou can use builtins\u001b[39m\u001b[39m'\u001b[39m\u001b[39m open.\u001b[39m\u001b[39m\"\u001b[39m\n\u001b[1;32m    282\u001b[0m     )\n\u001b[0;32m--> 284\u001b[0m \u001b[39mreturn\u001b[39;00m io_open(file, \u001b[39m*\u001b[39;49margs, \u001b[39m*\u001b[39;49m\u001b[39m*\u001b[39;49mkwargs)\n",
      "\u001b[0;31mFileNotFoundError\u001b[0m: [Errno 2] No such file or directory: 'None/ambient/capture_metadata.json'"
     ]
    }
   ],
   "source": [
    "\n",
    "from json import load\n",
    "from dotenv import load_dotenv\n",
    "from helpers import *\n",
    "import os\n",
    "\n",
    "load_dotenv()\n",
    "\n",
    "data_path = os.getenv('DATA_PATH')\n",
    "ambient_dir = f'{data_path}/ambient' \n",
    "attack_dir = f'{data_path}/attacks'\n",
    "\n",
    "ambient_metadata_file = os.path.join(ambient_dir, 'capture_metadata.json')\n",
    "attack_metadata_file = os.path.join(attack_dir, 'capture_metadata.json')\n",
    "\n",
    "with open(ambient_metadata_file) as f:\n",
    "    ambient_metadata = load(f)\n",
    "\n",
    "with open(attack_metadata_file) as f:\n",
    "    attack_metadata = load(f)\n",
    "\n",
    "ambient_keys = [\n",
    "                \"ambient_dyno_drive_benign_anomaly\", \n",
    "                \"ambient_dyno_drive_basic_long\",\n",
    "                \"ambient_highway_street_driving_long\",\n",
    "                \"ambient_dyno_reverse\",\n",
    "                \"ambient_dyno_idle_radio_infotainment\",\n",
    "                \"ambient_dyno_drive_radio_infotainment\",\n",
    "                \"ambient_dyno_drive_winter\",\n",
    "                \"ambient_dyno_exercise_all_bits\",\n",
    "                \"ambient_dyno_drive_extended_short\",\n",
    "                \"ambient_dyno_drive_basic_short\",\n",
    "                \"ambient_dyno_drive_extended_long\",\n",
    "                \"ambient_highway_street_driving_diagnostics\"\n",
    "]\n",
    "\n",
    "attack_keys = [\n",
    "                \"accelerator_attack_reverse_1\",\n",
    "                \"accelerator_attack_drive_1\",\n",
    "                \"accelerator_attack_drive_2\",\n",
    "                \"accelerator_attack_reverse_2\",\n",
    "                \"fuzzing_attack_1\",\n",
    "                \"fuzzing_attack_2\",\n",
    "                \"fuzzing_attack_3\",\n",
    "                \"correlated_signal_attack_1\",\n",
    "                \"correlated_signal_attack_2\",\n",
    "                \"correlated_signal_attack_3\",\n",
    "                \"reverse_light_on_attack_1\",\n",
    "                \"reverse_light_on_attack_2\",\n",
    "                \"reverse_light_on_attack_3\",\n",
    "                \"reverse_light_off_attack_1\",\n",
    "                \"reverse_light_off_attack_2\",\n",
    "                \"reverse_light_off_attack_3\",\n",
    "                \"max_speedometer_attack_1\",\n",
    "                \"max_speedometer_attack_2\",\n",
    "                \"max_speedometer_attack_3\",\n",
    "                \"max_engine_coolant_temp_attack\",\n",
    "]\n",
    "\n",
    "# load parquet files into dataframes\n",
    "ambient_dfs = {}\n",
    "for parquet_file in ambient_keys:\n",
    "    parquet_filepath = os.path.join(ambient_dir, f'{parquet_file}.parquet')\n",
    "    df = pd.read_parquet(parquet_filepath)\n",
    "    ambient_dfs[parquet_file[:-8]] = df\n",
    "\n",
    "attack_dfs = {}\n",
    "for parquet_file in attack_keys:\n",
    "    parquet_filepath = os.path.join(attack_dir, f'{parquet_file}.parquet')\n",
    "    df = pd.read_parquet(parquet_filepath)\n",
    "    attack_dfs[parquet_file[:-8]] = df"
   ]
  }
 ],
 "metadata": {
  "kernelspec": {
   "display_name": "Python 3",
   "language": "python",
   "name": "python3"
  },
  "language_info": {
   "codemirror_mode": {
    "name": "ipython",
    "version": 3
   },
   "file_extension": ".py",
   "mimetype": "text/x-python",
   "name": "python",
   "nbconvert_exporter": "python",
   "pygments_lexer": "ipython3",
   "version": "3.11.4"
  }
 },
 "nbformat": 4,
 "nbformat_minor": 2
}
