{
 "cells": [
  {
   "cell_type": "markdown",
   "metadata": {},
   "source": [
    "# Data Loader"
   ]
  },
  {
   "cell_type": "code",
   "execution_count": 12,
   "metadata": {},
   "outputs": [
    {
     "name": "stdout",
     "output_type": "stream",
     "text": [
      "Found ambient and attack directories.\n",
      "Loading CAN metadata...\n",
      "Parquet files found...\n",
      "Found processed parquet files...\n",
      "Loading processed parquet files...\n",
      "Loading processing data into 'CANData' structure\n"
     ]
    }
   ],
   "source": [
    "from model.CANnoloAutoencoder import CANnoloAutoencoder\n",
    "from data_helpers.CANDataset import CANDataset\n",
    "from dotenv import load_dotenv\n",
    "\n",
    "import os\n",
    "\n",
    "load_dotenv()\n",
    "data_path = os.getenv('DATA_PATH')\n",
    "dataset = CANDataset(data_path, log_verbosity=1)\n"
   ]
  },
  {
   "cell_type": "code",
   "execution_count": 13,
   "metadata": {},
   "outputs": [
    {
     "data": {
      "text/plain": [
       "['ambient_dyno_drive_basic_long',\n",
       " 'ambient_dyno_drive_basic_short',\n",
       " 'ambient_dyno_drive_benign_anomaly',\n",
       " 'ambient_dyno_drive_extended_long',\n",
       " 'ambient_dyno_drive_extended_short',\n",
       " 'ambient_dyno_drive_radio_infotainment',\n",
       " 'ambient_dyno_drive_winter',\n",
       " 'ambient_dyno_exercise_all_bits',\n",
       " 'ambient_dyno_idle_radio_infotainment',\n",
       " 'ambient_dyno_reverse',\n",
       " 'ambient_highway_street_driving_diagnostics',\n",
       " 'ambient_highway_street_driving_long']"
      ]
     },
     "execution_count": 13,
     "metadata": {},
     "output_type": "execute_result"
    }
   ],
   "source": [
    "dataset.ambient_data._keys"
   ]
  },
  {
   "cell_type": "markdown",
   "metadata": {},
   "source": [
    "# Example Dataframe and Preprocessing Discussion"
   ]
  },
  {
   "cell_type": "code",
   "execution_count": 14,
   "metadata": {},
   "outputs": [
    {
     "data": {
      "text/html": [
       "<div>\n",
       "<style scoped>\n",
       "    .dataframe tbody tr th:only-of-type {\n",
       "        vertical-align: middle;\n",
       "    }\n",
       "\n",
       "    .dataframe tbody tr th {\n",
       "        vertical-align: top;\n",
       "    }\n",
       "\n",
       "    .dataframe thead th {\n",
       "        text-align: right;\n",
       "    }\n",
       "</style>\n",
       "<table border=\"1\" class=\"dataframe\">\n",
       "  <thead>\n",
       "    <tr style=\"text-align: right;\">\n",
       "      <th></th>\n",
       "      <th>time</th>\n",
       "      <th>aid</th>\n",
       "      <th>data</th>\n",
       "      <th>filename</th>\n",
       "      <th>delta_time_last_msg</th>\n",
       "      <th>delta_time_last_same_aid</th>\n",
       "      <th>actual_attack</th>\n",
       "    </tr>\n",
       "  </thead>\n",
       "  <tbody>\n",
       "    <tr>\n",
       "      <th>996475</th>\n",
       "      <td>444.749609</td>\n",
       "      <td>1072</td>\n",
       "      <td>223C87A2248014A0</td>\n",
       "      <td>ambient_dyno_drive_basic_short.log</td>\n",
       "      <td>1.072884e-06</td>\n",
       "      <td>0.100046</td>\n",
       "      <td>False</td>\n",
       "    </tr>\n",
       "    <tr>\n",
       "      <th>996476</th>\n",
       "      <td>444.749610</td>\n",
       "      <td>1760</td>\n",
       "      <td>0000000000000000</td>\n",
       "      <td>ambient_dyno_drive_basic_short.log</td>\n",
       "      <td>9.536743e-07</td>\n",
       "      <td>0.008092</td>\n",
       "      <td>False</td>\n",
       "    </tr>\n",
       "    <tr>\n",
       "      <th>996477</th>\n",
       "      <td>444.749611</td>\n",
       "      <td>1255</td>\n",
       "      <td>00000013038C0000</td>\n",
       "      <td>ambient_dyno_drive_basic_short.log</td>\n",
       "      <td>1.072884e-06</td>\n",
       "      <td>0.100046</td>\n",
       "      <td>False</td>\n",
       "    </tr>\n",
       "    <tr>\n",
       "      <th>996478</th>\n",
       "      <td>444.750605</td>\n",
       "      <td>339</td>\n",
       "      <td>00000000000C0002</td>\n",
       "      <td>ambient_dyno_drive_basic_short.log</td>\n",
       "      <td>9.939671e-04</td>\n",
       "      <td>0.020714</td>\n",
       "      <td>False</td>\n",
       "    </tr>\n",
       "    <tr>\n",
       "      <th>996479</th>\n",
       "      <td>444.750607</td>\n",
       "      <td>661</td>\n",
       "      <td>0000000000000040</td>\n",
       "      <td>ambient_dyno_drive_basic_short.log</td>\n",
       "      <td>2.026558e-06</td>\n",
       "      <td>0.031103</td>\n",
       "      <td>False</td>\n",
       "    </tr>\n",
       "  </tbody>\n",
       "</table>\n",
       "</div>"
      ],
      "text/plain": [
       "              time   aid              data  \\\n",
       "996475  444.749609  1072  223C87A2248014A0   \n",
       "996476  444.749610  1760  0000000000000000   \n",
       "996477  444.749611  1255  00000013038C0000   \n",
       "996478  444.750605   339  00000000000C0002   \n",
       "996479  444.750607   661  0000000000000040   \n",
       "\n",
       "                                  filename  delta_time_last_msg  \\\n",
       "996475  ambient_dyno_drive_basic_short.log         1.072884e-06   \n",
       "996476  ambient_dyno_drive_basic_short.log         9.536743e-07   \n",
       "996477  ambient_dyno_drive_basic_short.log         1.072884e-06   \n",
       "996478  ambient_dyno_drive_basic_short.log         9.939671e-04   \n",
       "996479  ambient_dyno_drive_basic_short.log         2.026558e-06   \n",
       "\n",
       "        delta_time_last_same_aid  actual_attack  \n",
       "996475                  0.100046          False  \n",
       "996476                  0.008092          False  \n",
       "996477                  0.100046          False  \n",
       "996478                  0.020714          False  \n",
       "996479                  0.031103          False  "
      ]
     },
     "execution_count": 14,
     "metadata": {},
     "output_type": "execute_result"
    }
   ],
   "source": [
    "# dataset.ambient_data.ambient_dyno_drive_basic_short.head()\n",
    "dataset.ambient_data.ambient_dyno_drive_basic_short.tail()"
   ]
  },
  {
   "cell_type": "code",
   "execution_count": 15,
   "metadata": {},
   "outputs": [
    {
     "name": "stdout",
     "output_type": "stream",
     "text": [
      "Number of unique CAN IDs: 105\n",
      "Unique CAN IDs: [ 813 1694  293  737  852 1505 1760  354  167 1255  339  661 1634 1668\n",
      " 1590   14  727  412  208  263   51  628  192  996  961 1628 1399  403\n",
      "  526 1314  651  870 1408 1076 1031 1176  560 1459  186   61 1124 1277\n",
      " 1372   60  519 1225  470  244  458  675  705 1788  622  569  215 1331\n",
      " 1175  692 1413  738  837 1072  304 1644  722 1227  640  117   58  953\n",
      "  541 1262 1533 1693  253  627  452  676  881 1661 1307  420  204  683\n",
      " 1751  300 1512 1560  485  778  241   65  663 1455   37 1621  426 1049\n",
      "    6 1398  695  248  631  930 1649]\n"
     ]
    }
   ],
   "source": [
    "unique_can_ids = dataset.get_unique_can_ids()\n",
    "num_can_ids = len(unique_can_ids)\n",
    "\n",
    "print(f'Number of unique CAN IDs: {num_can_ids}')\n",
    "print(f'Unique CAN IDs: {unique_can_ids}')"
   ]
  },
  {
   "cell_type": "markdown",
   "metadata": {},
   "source": [
    "# Config file for custom format for features"
   ]
  },
  {
   "cell_type": "code",
   "execution_count": 40,
   "metadata": {},
   "outputs": [],
   "source": [
    "\n",
    "config = {\n",
    "    \"batch_size\": 128,\n",
    "    # \"delta_time_last_msg\": {\n",
    "    #     \"specific_to_can_id\": False,\n",
    "    #     \"records_back\": \n",
    "    # },\n",
    "    \"delta_time_last_same_aid\": {\n",
    "        \"specific_to_can_id\": True,\n",
    "        \"records_back\": 40\n",
    "    },\n",
    "}\n",
    "\n",
    "ambient_loader, validation_loader, attack_loader = dataset.get_dataloaders(config)"
   ]
  },
  {
   "cell_type": "code",
   "execution_count": null,
   "metadata": {},
   "outputs": [],
   "source": []
  },
  {
   "cell_type": "code",
   "execution_count": 41,
   "metadata": {},
   "outputs": [
    {
     "name": "stdout",
     "output_type": "stream",
     "text": [
      "ids: tensor([ 813,  953,  541,  263,  241,  263,  186,   65,  263,  663, 1455,  813,\n",
      "          60,  519, 1225,  470, 1049,  263,  186,  263,  813,  263,  186,  263,\n",
      "         263,  186, 1307,  813,   60,  519, 1225,  470,  263,  426,  263,  186,\n",
      "         778,  452,  676,  813,  263,  263,  186,  263,  813,   60,  519, 1225,\n",
      "         470,  263,  186,    6,  263,  813,  263,  186,  263,  263,  186, 1307,\n",
      "         813,   60,  519, 1225,  470,  263, 1398,  263,  186,  813,  263, 1331,\n",
      "         263,  186,  263,  452,  676,  813,   60,  519, 1225,  470,  263,  186,\n",
      "        1049,  263,  813,  263,  186,  241,  263,  263,  186,  663, 1307,  813,\n",
      "          60,  519, 1225,  470,  263,  248,  263,  186,  813,  263,  263,  186,\n",
      "         263,  813,   60,  519, 1225,  470,  263,  186,  263,  452,  676,  813,\n",
      "         263,  186,  263,  263,  186, 1307,  813,   60])\n",
      "features: tensor([[0.0510, 0.0490, 0.0531,  ..., 0.0501, 0.0500, 0.0491],\n",
      "        [0.9998, 1.0002, 0.9994,  ..., 0.9997, 0.9999, 0.9998],\n",
      "        [1.0000, 0.9994, 1.0000,  ..., 0.9998, 0.9990, 0.9998],\n",
      "        ...,\n",
      "        [0.1980, 0.2001, 0.1999,  ..., 0.2011, 0.1989, 0.2030],\n",
      "        [0.0499, 0.0500, 0.0500,  ..., 0.0479, 0.0501, 0.0490],\n",
      "        [0.1001, 0.1000, 0.0995,  ..., 0.1000, 0.1000, 0.1000]])\n",
      "label: tensor([0., 0., 0., 0., 0., 0., 0., 0., 0., 0., 0., 0., 0., 0., 0., 0., 0., 0., 0., 0., 0., 0., 0., 0.,\n",
      "        0., 0., 0., 0., 0., 0., 0., 0., 0., 0., 0., 0., 0., 0., 0., 0., 0., 0., 0., 0., 0., 0., 0., 0.,\n",
      "        0., 0., 0., 0., 0., 0., 0., 0., 0., 0., 0., 0., 0., 0., 0., 0., 0., 0., 0., 0., 0., 0., 0., 0.,\n",
      "        0., 0., 0., 0., 0., 0., 0., 0., 0., 0., 0., 0., 0., 0., 0., 0., 0., 0., 0., 0., 0., 0., 0., 0.,\n",
      "        0., 0., 0., 0., 0., 0., 0., 0., 0., 0., 0., 0., 0., 0., 0., 0., 0., 0., 0., 0., 0., 0., 0., 0.,\n",
      "        0., 0., 0., 0., 0., 0., 0., 0.])\n"
     ]
    }
   ],
   "source": [
    "ids, features, label = ambient_loader.__getitem__(0)\n",
    "print(f'ids: {ids}')\n",
    "print(f'features: {features}')\n",
    "print(f'label: {label}')\n",
    "ambient_loader.reset()"
   ]
  },
  {
   "cell_type": "code",
   "execution_count": 42,
   "metadata": {},
   "outputs": [
    {
     "name": "stdout",
     "output_type": "stream",
     "text": [
      "Feature vector length: 40\n"
     ]
    }
   ],
   "source": [
    "from helpers import calculate_feature_vec_length, Timing\n",
    "\n",
    "feature_vec_length = calculate_feature_vec_length(config)\n",
    "print(f'Feature vector length: {feature_vec_length}')"
   ]
  },
  {
   "cell_type": "markdown",
   "metadata": {},
   "source": [
    "# Training"
   ]
  },
  {
   "cell_type": "code",
   "execution_count": 43,
   "metadata": {},
   "outputs": [
    {
     "name": "stdout",
     "output_type": "stream",
     "text": [
      "MPS is available. Using MPS...\n"
     ]
    }
   ],
   "source": [
    "model_config = {\n",
    "    \"embedding_dim\": num_can_ids,\n",
    "    \"lstm_units\": 128,\n",
    "    \"dense_units\": 256,\n",
    "    \"dropout_rate\": 0.2,\n",
    "    \"num_embeddings\": max(unique_can_ids) + 1,\n",
    "    \"feature_vec_length\": feature_vec_length\n",
    "}\n",
    "\n",
    "model = CANnoloAutoencoder(**model_config)"
   ]
  },
  {
   "cell_type": "code",
   "execution_count": null,
   "metadata": {},
   "outputs": [],
   "source": [
    "model.train_loop(train_loader=ambient_loader, \n",
    "                 validation_loader=validation_loader, \n",
    "                 training_metadata_file=\"training_metadata.tsv\", \n",
    "                 model_save_directory=\"models\", psuedo_epoch_size=50, validation_epoch_size=10)"
   ]
  },
  {
   "cell_type": "markdown",
   "metadata": {},
   "source": [
    "# Testing"
   ]
  },
  {
   "cell_type": "code",
   "execution_count": 69,
   "metadata": {},
   "outputs": [
    {
     "name": "stdout",
     "output_type": "stream",
     "text": [
      "MPS is available. Using MPS...\n"
     ]
    }
   ],
   "source": [
    "from model.CANnoloAttackDetector import CANnoloAttackDetector\n",
    "from helpers import seperate_attack_loader, calculate_metrics\n",
    "\n",
    "# model_path = \"../archive/canolo_model_112.pt\"\n",
    "model_path = \"./models/206.pt\"\n",
    "threshold = 2.8e-05 \n",
    "\n",
    "detector = CANnoloAttackDetector(model_path, threshold, model_config)"
   ]
  },
  {
   "cell_type": "code",
   "execution_count": 54,
   "metadata": {},
   "outputs": [
    {
     "name": "stdout",
     "output_type": "stream",
     "text": [
      "No attack labels in accelerator_attack_drive_1.log\n",
      "No attack labels in accelerator_attack_drive_2.log\n",
      "No attack labels in accelerator_attack_reverse_1.log\n",
      "No attack labels in accelerator_attack_reverse_2.log\n",
      "Found attack labels in correlated_signal_attack_1.log\n",
      "Found attack labels in correlated_signal_attack_2.log\n",
      "Found attack labels in correlated_signal_attack_3.log\n",
      "Found attack labels in fuzzing_attack_1.log\n",
      "Found attack labels in fuzzing_attack_2.log\n",
      "Found attack labels in fuzzing_attack_3.log\n",
      "Found attack labels in max_engine_coolant_temp_attack.log\n",
      "Found attack labels in max_speedometer_attack_1.log\n",
      "Found attack labels in max_speedometer_attack_2.log\n",
      "Found attack labels in max_speedometer_attack_3.log\n",
      "Found attack labels in reverse_light_off_attack_1.log\n",
      "Found attack labels in reverse_light_off_attack_2.log\n",
      "Found attack labels in reverse_light_off_attack_3.log\n",
      "Found attack labels in reverse_light_on_attack_1.log\n",
      "Found attack labels in reverse_light_on_attack_2.log\n",
      "Found attack labels in reverse_light_on_attack_3.log\n"
     ]
    }
   ],
   "source": [
    "attack_loaders = seperate_attack_loader(attack_loader, config, remove_non_labelled=True)"
   ]
  },
  {
   "cell_type": "code",
   "execution_count": 71,
   "metadata": {},
   "outputs": [],
   "source": [
    "accuracy, precision, recall, f1_score, confusion_matrix = calculate_metrics(detector.detect_attacks(attack_loaders[5]))"
   ]
  },
  {
   "cell_type": "code",
   "execution_count": 72,
   "metadata": {},
   "outputs": [
    {
     "name": "stdout",
     "output_type": "stream",
     "text": [
      "Accuracy: 0.9886209239130435\n",
      "Precision: 0.007518796992481203\n",
      "Recall: 0.3333333333333333\n",
      "F1 score: 0.014705882352941176\n",
      "Confusion matrix: [[1, 132], [2, 11641]]\n"
     ]
    }
   ],
   "source": [
    "print(f'Accuracy: {accuracy}')\n",
    "print(f'Precision: {precision}')\n",
    "print(f'Recall: {recall}')\n",
    "print(f'F1 score: {f1_score}')\n",
    "print(f'Confusion matrix: {confusion_matrix}')"
   ]
  }
 ],
 "metadata": {
  "kernelspec": {
   "display_name": "torch",
   "language": "python",
   "name": "torch"
  },
  "language_info": {
   "codemirror_mode": {
    "name": "ipython",
    "version": 3
   },
   "file_extension": ".py",
   "mimetype": "text/x-python",
   "name": "python",
   "nbconvert_exporter": "python",
   "pygments_lexer": "ipython3",
   "version": "3.11.4"
  }
 },
 "nbformat": 4,
 "nbformat_minor": 2
}
