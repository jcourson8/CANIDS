{
 "cells": [
  {
   "cell_type": "code",
   "execution_count": 2,
   "metadata": {},
   "outputs": [],
   "source": [
    "from json import load\n",
    "from dotenv import load_dotenv\n",
    "from helpers import *\n",
    "import os\n",
    "\n",
    "load_dotenv()\n",
    "\n",
    "data_path = os.getenv('DATA_PATH')\n",
    "ambient_dir = f'{data_path}/ambient' \n",
    "attack_dir = f'{data_path}/attacks'\n",
    "\n",
    "ambient_metadata_file = os.path.join(ambient_dir, 'capture_metadata.json')\n",
    "attack_metadata_file = os.path.join(attack_dir, 'capture_metadata.json')\n",
    "\n",
    "with open(ambient_metadata_file) as f:\n",
    "    ambient_metadata = load(f)\n",
    "\n",
    "with open(attack_metadata_file) as f:\n",
    "    attack_metadata = load(f)\n",
    "\n",
    "ambient_keys = [\n",
    "                \"ambient_dyno_drive_benign_anomaly\", \n",
    "                \"ambient_dyno_drive_basic_long\",\n",
    "                \"ambient_highway_street_driving_long\",\n",
    "                \"ambient_dyno_reverse\",\n",
    "                \"ambient_dyno_idle_radio_infotainment\",\n",
    "                \"ambient_dyno_drive_radio_infotainment\",\n",
    "                \"ambient_dyno_drive_winter\",\n",
    "                \"ambient_dyno_exercise_all_bits\",\n",
    "                \"ambient_dyno_drive_extended_short\",\n",
    "                \"ambient_dyno_drive_basic_short\",\n",
    "                \"ambient_dyno_drive_extended_long\",\n",
    "                \"ambient_highway_street_driving_diagnostics\"\n",
    "]\n",
    "\n",
    "attack_keys = [\n",
    "                \"accelerator_attack_reverse_1\",\n",
    "                \"accelerator_attack_drive_1\",\n",
    "                \"accelerator_attack_drive_2\",\n",
    "                \"accelerator_attack_reverse_2\",\n",
    "                \"fuzzing_attack_1\",\n",
    "                \"fuzzing_attack_2\",\n",
    "                \"fuzzing_attack_3\",\n",
    "                \"correlated_signal_attack_1\",\n",
    "                \"correlated_signal_attack_2\",\n",
    "                \"correlated_signal_attack_3\",\n",
    "                \"reverse_light_on_attack_1\",\n",
    "                \"reverse_light_on_attack_2\",\n",
    "                \"reverse_light_on_attack_3\",\n",
    "                \"reverse_light_off_attack_1\",\n",
    "                \"reverse_light_off_attack_2\",\n",
    "                \"reverse_light_off_attack_3\",\n",
    "                \"max_speedometer_attack_1\",\n",
    "                \"max_speedometer_attack_2\",\n",
    "                \"max_speedometer_attack_3\",\n",
    "                \"max_engine_coolant_temp_attack\",\n",
    "]\n",
    "\n",
    "# load parquet files into dataframes\n",
    "ambient_dfs = {}\n",
    "for parquet_file in ambient_keys:\n",
    "    parquet_filepath = os.path.join(ambient_dir, f'{parquet_file}_with_time_diffs.parquet')\n",
    "    df = pd.read_parquet(parquet_filepath)\n",
    "    ambient_dfs[parquet_file] = df\n",
    "\n",
    "attack_dfs = {}\n",
    "for parquet_file in attack_keys:\n",
    "    parquet_filepath = os.path.join(attack_dir, f'{parquet_file}_with_time_diffs.parquet')\n",
    "    df = pd.read_parquet(parquet_filepath)\n",
    "    attack_dfs[parquet_file] = df"
   ]
  },
  {
   "cell_type": "markdown",
   "metadata": {},
   "source": [
    "# make a data loader?"
   ]
  },
  {
   "cell_type": "code",
   "execution_count": null,
   "metadata": {},
   "outputs": [],
   "source": []
  }
 ],
 "metadata": {
  "kernelspec": {
   "display_name": "Python 3",
   "language": "python",
   "name": "python3"
  },
  "language_info": {
   "codemirror_mode": {
    "name": "ipython",
    "version": 3
   },
   "file_extension": ".py",
   "mimetype": "text/x-python",
   "name": "python",
   "nbconvert_exporter": "python",
   "pygments_lexer": "ipython3",
   "version": "3.11.4"
  }
 },
 "nbformat": 4,
 "nbformat_minor": 2
}
